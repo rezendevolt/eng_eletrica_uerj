{
 "cells": [
  {
   "cell_type": "markdown",
   "id": "655d38aa",
   "metadata": {},
   "source": [
    "# Experimento 6\n",
    "## Correção do Fator de Potência em Circuitos Triabsfasicos\n",
    "Aluno: \n",
    "    \n",
    "    Victor Hugo de Avelar Rezende\n",
    "\n",
    "Professor: \n",
    "\n",
    "    Sergio Leon Escalante"
   ]
  },
  {
   "cell_type": "markdown",
   "id": "e25c726d",
   "metadata": {},
   "source": [
    "# Bibliotecas"
   ]
  },
  {
   "cell_type": "code",
   "execution_count": 3,
   "id": "c0c03cd4",
   "metadata": {},
   "outputs": [],
   "source": [
    "import math as m\n",
    "import cmath as cm\n",
    "import pandas as pd\n",
    "import numpy as np"
   ]
  },
  {
   "cell_type": "markdown",
   "id": "4a6ba5d3",
   "metadata": {},
   "source": [
    "# Preambulo"
   ]
  },
  {
   "cell_type": "markdown",
   "id": "d46b8632",
   "metadata": {},
   "source": [
    "## Tensão de fase"
   ]
  },
  {
   "cell_type": "code",
   "execution_count": 4,
   "id": "6f9cee98",
   "metadata": {},
   "outputs": [],
   "source": [
    "Van = 127*complex(m.cos(0),m.sin(0))\n",
    "Vbn = 127*complex(m.cos(np.radians(-120)),m.sin(np.radians(-120)))\n",
    "Vcn = 127*complex(m.cos(np.radians(120)),m.sin(np.radians(120)))"
   ]
  },
  {
   "cell_type": "markdown",
   "id": "3768bfff",
   "metadata": {},
   "source": [
    "## Tensão de Linha"
   ]
  },
  {
   "cell_type": "code",
   "execution_count": 5,
   "id": "85203378",
   "metadata": {},
   "outputs": [],
   "source": [
    "Vab = Van - Vbn\n",
    "Vbc = Vbn - Vcn\n",
    "Vca = Vcn - Van"
   ]
  },
  {
   "cell_type": "markdown",
   "id": "d225d92d",
   "metadata": {},
   "source": [
    "## Indutancias e Capacitancias"
   ]
  },
  {
   "cell_type": "code",
   "execution_count": 6,
   "id": "e9c746e5",
   "metadata": {},
   "outputs": [],
   "source": [
    "L = 0.052\n",
    "C = 25E-6"
   ]
  },
  {
   "cell_type": "markdown",
   "id": "503313c3",
   "metadata": {},
   "source": [
    "## Resistencias e Reatancias"
   ]
  },
  {
   "cell_type": "code",
   "execution_count": 7,
   "id": "5d7eebb4",
   "metadata": {},
   "outputs": [],
   "source": [
    "R = complex(100,0)\n",
    "jXl = complex(0,L*60*m.pi*2)\n",
    "jXc = complex(0,-1/(C*60*m.pi*2))\n"
   ]
  },
  {
   "cell_type": "markdown",
   "id": "08abcc33",
   "metadata": {},
   "source": [
    "## Vizualização"
   ]
  },
  {
   "cell_type": "code",
   "execution_count": 8,
   "id": "ca635d0a",
   "metadata": {},
   "outputs": [
    {
     "data": {
      "text/html": [
       "<div>\n",
       "<style scoped>\n",
       "    .dataframe tbody tr th:only-of-type {\n",
       "        vertical-align: middle;\n",
       "    }\n",
       "\n",
       "    .dataframe tbody tr th {\n",
       "        vertical-align: top;\n",
       "    }\n",
       "\n",
       "    .dataframe thead th {\n",
       "        text-align: right;\n",
       "    }\n",
       "</style>\n",
       "<table border=\"1\" class=\"dataframe\">\n",
       "  <thead>\n",
       "    <tr style=\"text-align: right;\">\n",
       "      <th></th>\n",
       "      <th>Módulo</th>\n",
       "      <th>fase</th>\n",
       "    </tr>\n",
       "  </thead>\n",
       "  <tbody>\n",
       "    <tr>\n",
       "      <th>Van</th>\n",
       "      <td>127.000000</td>\n",
       "      <td>0.0</td>\n",
       "    </tr>\n",
       "    <tr>\n",
       "      <th>Vbn</th>\n",
       "      <td>127.000000</td>\n",
       "      <td>-120.0</td>\n",
       "    </tr>\n",
       "    <tr>\n",
       "      <th>Vcn</th>\n",
       "      <td>127.000000</td>\n",
       "      <td>120.0</td>\n",
       "    </tr>\n",
       "    <tr>\n",
       "      <th>Vab</th>\n",
       "      <td>219.970453</td>\n",
       "      <td>30.0</td>\n",
       "    </tr>\n",
       "    <tr>\n",
       "      <th>Vbc</th>\n",
       "      <td>219.970453</td>\n",
       "      <td>-90.0</td>\n",
       "    </tr>\n",
       "    <tr>\n",
       "      <th>Vca</th>\n",
       "      <td>219.970453</td>\n",
       "      <td>150.0</td>\n",
       "    </tr>\n",
       "    <tr>\n",
       "      <th>R</th>\n",
       "      <td>100.000000</td>\n",
       "      <td>0.0</td>\n",
       "    </tr>\n",
       "    <tr>\n",
       "      <th>jXl</th>\n",
       "      <td>19.603538</td>\n",
       "      <td>90.0</td>\n",
       "    </tr>\n",
       "    <tr>\n",
       "      <th>jXc</th>\n",
       "      <td>106.103295</td>\n",
       "      <td>-90.0</td>\n",
       "    </tr>\n",
       "  </tbody>\n",
       "</table>\n",
       "</div>"
      ],
      "text/plain": [
       "         Módulo   fase\n",
       "Van  127.000000    0.0\n",
       "Vbn  127.000000 -120.0\n",
       "Vcn  127.000000  120.0\n",
       "Vab  219.970453   30.0\n",
       "Vbc  219.970453  -90.0\n",
       "Vca  219.970453  150.0\n",
       "R    100.000000    0.0\n",
       "jXl   19.603538   90.0\n",
       "jXc  106.103295  -90.0"
      ]
     },
     "metadata": {},
     "output_type": "display_data"
    }
   ],
   "source": [
    "vals = [Van, Vbn ,Vcn,\n",
    "        Vab, Vbc ,Vca,\n",
    "        R, jXl, jXc]\n",
    "datas = []\n",
    "for i in vals:\n",
    "    f = [abs(i),(cm.phase(i))*180/(m.pi)]\n",
    "    datas.append(f)\n",
    "df_vals = pd.DataFrame(data = datas, \n",
    "                       index = ['Van', 'Vbn', 'Vcn',\n",
    "                                'Vab', 'Vbc', 'Vca',\n",
    "                                'R', 'jXl', 'jXc'], \n",
    "                       columns = ['Módulo','fase'])\n",
    "display(df_vals)"
   ]
  },
  {
   "cell_type": "markdown",
   "id": "9cd6d510",
   "metadata": {},
   "source": [
    "# Caso 1"
   ]
  },
  {
   "cell_type": "markdown",
   "id": "a42670f9",
   "metadata": {},
   "source": [
    "## Impedancia"
   ]
  },
  {
   "cell_type": "code",
   "execution_count": 9,
   "id": "b25c12a7",
   "metadata": {},
   "outputs": [],
   "source": [
    "Z = R+jXl"
   ]
  },
  {
   "cell_type": "markdown",
   "id": "ec6bd9a3",
   "metadata": {},
   "source": [
    "## Correntes"
   ]
  },
  {
   "cell_type": "code",
   "execution_count": 10,
   "id": "0838502b",
   "metadata": {},
   "outputs": [],
   "source": [
    "Ia = Van/Z\n",
    "Ib = Vbn/Z\n",
    "Ic = Vcn/Z"
   ]
  },
  {
   "cell_type": "markdown",
   "id": "7d795574",
   "metadata": {},
   "source": [
    "## Potencia Blondel"
   ]
  },
  {
   "cell_type": "code",
   "execution_count": 11,
   "id": "0bed70dd",
   "metadata": {},
   "outputs": [],
   "source": [
    "W1 = abs(abs(Vab) * abs(Ia) * m.cos((cm.phase(Vab)-cm.phase(Ia))))\n",
    "W2 = abs(abs(Vbc) * abs(Ic) * m.cos((cm.phase(Vbc)-cm.phase(Ic))))\n",
    "P3f_bl = W1 + W2"
   ]
  },
  {
   "cell_type": "markdown",
   "id": "915cff11",
   "metadata": {},
   "source": [
    "## Potencia"
   ]
  },
  {
   "cell_type": "code",
   "execution_count": 12,
   "id": "41b13a8a",
   "metadata": {},
   "outputs": [],
   "source": [
    "P3f = abs(Z)*m.cos(cm.phase(Z))*abs(Ia)**2 + abs(Z)*m.cos(cm.phase(Z))*abs(Ib)**2 + abs(Z)*m.cos(cm.phase(Z))*abs(Ic)**2 "
   ]
  },
  {
   "cell_type": "markdown",
   "id": "0130b021",
   "metadata": {},
   "source": [
    "## Potencia Reativa"
   ]
  },
  {
   "cell_type": "code",
   "execution_count": 13,
   "id": "b177c967",
   "metadata": {},
   "outputs": [],
   "source": [
    "Q3f_var = abs(m.sqrt(3)*(W1 - W2))\n",
    "Q3f = abs(Z)*m.sin(cm.phase(Z))*abs(Ia)**2 + abs(Z)*m.sin(cm.phase(Z))*abs(Ib)**2 + abs(Z)*m.sin(cm.phase(Z))*abs(Ic)**2 "
   ]
  },
  {
   "cell_type": "code",
   "execution_count": 14,
   "id": "d9a3d013",
   "metadata": {},
   "outputs": [],
   "source": [
    "FP = m.cos(m.atan(Q3f/P3f))"
   ]
  },
  {
   "cell_type": "markdown",
   "id": "e5d89131",
   "metadata": {},
   "source": [
    "## Vizualização"
   ]
  },
  {
   "cell_type": "code",
   "execution_count": 15,
   "id": "a317a2b8",
   "metadata": {
    "scrolled": true
   },
   "outputs": [
    {
     "data": {
      "text/html": [
       "<div>\n",
       "<style scoped>\n",
       "    .dataframe tbody tr th:only-of-type {\n",
       "        vertical-align: middle;\n",
       "    }\n",
       "\n",
       "    .dataframe tbody tr th {\n",
       "        vertical-align: top;\n",
       "    }\n",
       "\n",
       "    .dataframe thead th {\n",
       "        text-align: right;\n",
       "    }\n",
       "</style>\n",
       "<table border=\"1\" class=\"dataframe\">\n",
       "  <thead>\n",
       "    <tr style=\"text-align: right;\">\n",
       "      <th></th>\n",
       "      <th>Módulo</th>\n",
       "      <th>fase</th>\n",
       "    </tr>\n",
       "  </thead>\n",
       "  <tbody>\n",
       "    <tr>\n",
       "      <th>Z</th>\n",
       "      <td>101.903379</td>\n",
       "      <td>11.091348</td>\n",
       "    </tr>\n",
       "    <tr>\n",
       "      <th>Ia</th>\n",
       "      <td>1.246279</td>\n",
       "      <td>-11.091348</td>\n",
       "    </tr>\n",
       "    <tr>\n",
       "      <th>Ib</th>\n",
       "      <td>1.246279</td>\n",
       "      <td>-131.091348</td>\n",
       "    </tr>\n",
       "    <tr>\n",
       "      <th>Ic</th>\n",
       "      <td>1.246279</td>\n",
       "      <td>108.908652</td>\n",
       "    </tr>\n",
       "    <tr>\n",
       "      <th>W1</th>\n",
       "      <td>206.612446</td>\n",
       "      <td>0.000000</td>\n",
       "    </tr>\n",
       "    <tr>\n",
       "      <th>W2</th>\n",
       "      <td>259.350653</td>\n",
       "      <td>0.000000</td>\n",
       "    </tr>\n",
       "    <tr>\n",
       "      <th>P3f</th>\n",
       "      <td>465.963098</td>\n",
       "      <td>0.000000</td>\n",
       "    </tr>\n",
       "    <tr>\n",
       "      <th>P3f (Blondel)</th>\n",
       "      <td>465.963098</td>\n",
       "      <td>0.000000</td>\n",
       "    </tr>\n",
       "    <tr>\n",
       "      <th>Q3f</th>\n",
       "      <td>91.345254</td>\n",
       "      <td>0.000000</td>\n",
       "    </tr>\n",
       "    <tr>\n",
       "      <th>Q3f (Varimetro)</th>\n",
       "      <td>91.345254</td>\n",
       "      <td>0.000000</td>\n",
       "    </tr>\n",
       "    <tr>\n",
       "      <th>FP</th>\n",
       "      <td>0.981322</td>\n",
       "      <td>0.000000</td>\n",
       "    </tr>\n",
       "  </tbody>\n",
       "</table>\n",
       "</div>"
      ],
      "text/plain": [
       "                     Módulo        fase\n",
       "Z                101.903379   11.091348\n",
       "Ia                 1.246279  -11.091348\n",
       "Ib                 1.246279 -131.091348\n",
       "Ic                 1.246279  108.908652\n",
       "W1               206.612446    0.000000\n",
       "W2               259.350653    0.000000\n",
       "P3f              465.963098    0.000000\n",
       "P3f (Blondel)    465.963098    0.000000\n",
       "Q3f               91.345254    0.000000\n",
       "Q3f (Varimetro)   91.345254    0.000000\n",
       "FP                 0.981322    0.000000"
      ]
     },
     "metadata": {},
     "output_type": "display_data"
    }
   ],
   "source": [
    "vals = [Z,\n",
    "        Ia, Ib, Ic,\n",
    "        W1, W2 ,\n",
    "        P3f, P3f_bl,\n",
    "        Q3f, Q3f_var,\n",
    "        FP]\n",
    "datas = []\n",
    "for i in vals:\n",
    "    f = [abs(i),(cm.phase(i))*180/(m.pi)]\n",
    "    datas.append(f)\n",
    "df_vals = pd.DataFrame(data = datas, \n",
    "                       index = ['Z', \n",
    "                                'Ia', 'Ib', 'Ic',\n",
    "                                'W1', 'W2',\n",
    "                                'P3f', 'P3f (Blondel)', \n",
    "                                'Q3f', 'Q3f (Varimetro)',\n",
    "                                'FP'], \n",
    "                       columns = ['Módulo','fase'])\n",
    "display(df_vals)\n"
   ]
  },
  {
   "cell_type": "markdown",
   "id": "af42a2b3",
   "metadata": {},
   "source": [
    "# Caso 2"
   ]
  },
  {
   "cell_type": "markdown",
   "id": "959be136",
   "metadata": {},
   "source": [
    "## Impedancias"
   ]
  },
  {
   "cell_type": "code",
   "execution_count": 16,
   "id": "87e053d0",
   "metadata": {},
   "outputs": [],
   "source": [
    "Zc = jXc\n",
    "Zt = Z*Zc/(Z+Zc)"
   ]
  },
  {
   "cell_type": "markdown",
   "id": "8970fa21",
   "metadata": {},
   "source": [
    "## Correntes"
   ]
  },
  {
   "cell_type": "code",
   "execution_count": 17,
   "id": "26a9b528",
   "metadata": {},
   "outputs": [],
   "source": [
    "Ia = Van/Zt\n",
    "Ib = Vbn/Zt\n",
    "Ic = Vcn/Zt"
   ]
  },
  {
   "cell_type": "markdown",
   "id": "bb3eee98",
   "metadata": {},
   "source": [
    "## Potencias"
   ]
  },
  {
   "cell_type": "code",
   "execution_count": 18,
   "id": "43fac5ec",
   "metadata": {},
   "outputs": [],
   "source": [
    "W1 = abs(abs(Vab) * abs(Ia) * m.cos((cm.phase(Vab)-cm.phase(Ia))))\n",
    "W2 = abs(abs(Vbc) * abs(Ic) * m.cos((cm.phase(Vbc)-cm.phase(Ic))))\n",
    "P3f_bl = W1 + W2"
   ]
  },
  {
   "cell_type": "code",
   "execution_count": 19,
   "id": "3de8c039",
   "metadata": {},
   "outputs": [],
   "source": [
    "P3f = abs(Zt)*m.cos(cm.phase(Zt))*abs(Ia)**2 + abs(Zt)*m.cos(cm.phase(Zt))*abs(Ib)**2 + abs(Zt)*m.cos(cm.phase(Zt))*abs(Ic)**2 "
   ]
  },
  {
   "cell_type": "code",
   "execution_count": 20,
   "id": "926587d7",
   "metadata": {},
   "outputs": [],
   "source": [
    "Q3f_var = abs(m.sqrt(3)*(W1 - W2))\n",
    "Q3f = abs(Zt)*m.sin(cm.phase(Zt))*abs(Ia)**2 + abs(Zt)*m.sin(cm.phase(Zt))*abs(Ib)**2 + abs(Zt)*m.sin(cm.phase(Zt))*abs(Ic)**2 "
   ]
  },
  {
   "cell_type": "markdown",
   "id": "473545ef",
   "metadata": {},
   "source": [
    "## Fator de Potencia"
   ]
  },
  {
   "cell_type": "code",
   "execution_count": 21,
   "id": "e94f1bcc",
   "metadata": {},
   "outputs": [],
   "source": [
    "FP = m.cos(m.atan(Q3f/P3f))"
   ]
  },
  {
   "cell_type": "markdown",
   "id": "ed1dd7b6",
   "metadata": {},
   "source": [
    "## Vizualização"
   ]
  },
  {
   "cell_type": "code",
   "execution_count": 22,
   "id": "610b79f7",
   "metadata": {},
   "outputs": [
    {
     "data": {
      "text/html": [
       "<div>\n",
       "<style scoped>\n",
       "    .dataframe tbody tr th:only-of-type {\n",
       "        vertical-align: middle;\n",
       "    }\n",
       "\n",
       "    .dataframe tbody tr th {\n",
       "        vertical-align: top;\n",
       "    }\n",
       "\n",
       "    .dataframe thead th {\n",
       "        text-align: right;\n",
       "    }\n",
       "</style>\n",
       "<table border=\"1\" class=\"dataframe\">\n",
       "  <thead>\n",
       "    <tr style=\"text-align: right;\">\n",
       "      <th></th>\n",
       "      <th>Módulo</th>\n",
       "      <th>fase</th>\n",
       "    </tr>\n",
       "  </thead>\n",
       "  <tbody>\n",
       "    <tr>\n",
       "      <th>Z</th>\n",
       "      <td>81.774767</td>\n",
       "      <td>-38.048926</td>\n",
       "    </tr>\n",
       "    <tr>\n",
       "      <th>Ia</th>\n",
       "      <td>1.553046</td>\n",
       "      <td>38.048926</td>\n",
       "    </tr>\n",
       "    <tr>\n",
       "      <th>Ib</th>\n",
       "      <td>1.553046</td>\n",
       "      <td>-81.951074</td>\n",
       "    </tr>\n",
       "    <tr>\n",
       "      <th>Ic</th>\n",
       "      <td>1.553046</td>\n",
       "      <td>158.048926</td>\n",
       "    </tr>\n",
       "    <tr>\n",
       "      <th>W1</th>\n",
       "      <td>338.258910</td>\n",
       "      <td>0.000000</td>\n",
       "    </tr>\n",
       "    <tr>\n",
       "      <th>W2</th>\n",
       "      <td>127.704188</td>\n",
       "      <td>0.000000</td>\n",
       "    </tr>\n",
       "    <tr>\n",
       "      <th>P3f</th>\n",
       "      <td>465.963098</td>\n",
       "      <td>0.000000</td>\n",
       "    </tr>\n",
       "    <tr>\n",
       "      <th>P3f (Blondel)</th>\n",
       "      <td>465.963098</td>\n",
       "      <td>0.000000</td>\n",
       "    </tr>\n",
       "    <tr>\n",
       "      <th>Q3f</th>\n",
       "      <td>364.691477</td>\n",
       "      <td>180.000000</td>\n",
       "    </tr>\n",
       "    <tr>\n",
       "      <th>Q3f (Varimetro)</th>\n",
       "      <td>364.691477</td>\n",
       "      <td>0.000000</td>\n",
       "    </tr>\n",
       "    <tr>\n",
       "      <th>FP</th>\n",
       "      <td>0.787485</td>\n",
       "      <td>0.000000</td>\n",
       "    </tr>\n",
       "  </tbody>\n",
       "</table>\n",
       "</div>"
      ],
      "text/plain": [
       "                     Módulo        fase\n",
       "Z                 81.774767  -38.048926\n",
       "Ia                 1.553046   38.048926\n",
       "Ib                 1.553046  -81.951074\n",
       "Ic                 1.553046  158.048926\n",
       "W1               338.258910    0.000000\n",
       "W2               127.704188    0.000000\n",
       "P3f              465.963098    0.000000\n",
       "P3f (Blondel)    465.963098    0.000000\n",
       "Q3f              364.691477  180.000000\n",
       "Q3f (Varimetro)  364.691477    0.000000\n",
       "FP                 0.787485    0.000000"
      ]
     },
     "metadata": {},
     "output_type": "display_data"
    }
   ],
   "source": [
    "vals = [Zt,\n",
    "        Ia, Ib, Ic,\n",
    "        W1, W2 ,\n",
    "        P3f, P3f_bl,\n",
    "        Q3f, Q3f_var,\n",
    "        FP]\n",
    "datas = []\n",
    "for i in vals:\n",
    "    f = [abs(i),(cm.phase(i))*180/(m.pi)]\n",
    "    datas.append(f)\n",
    "df_vals = pd.DataFrame(data = datas, \n",
    "                       index = ['Z', \n",
    "                                'Ia', 'Ib', 'Ic',\n",
    "                                'W1', 'W2',\n",
    "                                'P3f', 'P3f (Blondel)', \n",
    "                                'Q3f', 'Q3f (Varimetro)',\n",
    "                                'FP'], \n",
    "                       columns = ['Módulo','fase'])\n",
    "display(df_vals)\n"
   ]
  },
  {
   "cell_type": "markdown",
   "id": "bfe71948",
   "metadata": {},
   "source": [
    "# Caso 3"
   ]
  },
  {
   "cell_type": "markdown",
   "id": "ce03e4d5",
   "metadata": {},
   "source": [
    "## Impedancias"
   ]
  },
  {
   "cell_type": "code",
   "execution_count": 23,
   "id": "02d6390b",
   "metadata": {},
   "outputs": [],
   "source": [
    "Z1 = 2*R\n",
    "Z2 = R + jXl\n",
    "Z3 = R + jXc"
   ]
  },
  {
   "cell_type": "markdown",
   "id": "fa93fdad",
   "metadata": {},
   "source": [
    "## Correntes"
   ]
  },
  {
   "cell_type": "markdown",
   "id": "842dbf79",
   "metadata": {},
   "source": [
    "### Malhas\n",
    "Resolvendo sistemas com as malhas \\\n",
    "\\\n",
    "Malha 1:\n",
    "    \n",
    "    Van - Z1*I1 - Z2*I1 + Z2*I2 - Vbn = 0\n",
    "    \n",
    "Malha 2:\n",
    "    \n",
    "    Vbn - Z2*I2 + Z2*I1 - Z3*I2 - Vcn = 0"
   ]
  },
  {
   "cell_type": "code",
   "execution_count": 24,
   "id": "6f20ec0c",
   "metadata": {},
   "outputs": [],
   "source": [
    "M1 = np.array([[(Z1+Z2),-Z2],\n",
    "              [-Z2,(Z2+Z3)]])\n",
    "M2 = np.array([[(Van-Vbn)],\n",
    "              [(Vbn-Vcn)]])\n",
    "I = np.linalg.solve(M1,M2)\n",
    "\n",
    "I1 = I[0]\n",
    "I2 = I[1]\n"
   ]
  },
  {
   "cell_type": "code",
   "execution_count": 25,
   "id": "8611a845",
   "metadata": {},
   "outputs": [],
   "source": [
    "Ia = I1\n",
    "Ib = I2 - I1\n",
    "Ic = -I2"
   ]
  },
  {
   "cell_type": "markdown",
   "id": "11c5aba3",
   "metadata": {},
   "source": [
    "## Potencias"
   ]
  },
  {
   "cell_type": "code",
   "execution_count": 26,
   "id": "8fb92786",
   "metadata": {},
   "outputs": [],
   "source": [
    "W1 = abs(abs(Vab) * abs(Ia) * m.cos((cm.phase(Vab)-cm.phase(Ia))))\n",
    "W2 = abs(abs(Vbc) * abs(Ic) * m.cos((cm.phase(Vbc)-cm.phase(Ic))))\n",
    "P3f_bl = W1 + W2"
   ]
  },
  {
   "cell_type": "code",
   "execution_count": 27,
   "id": "c3c29a15",
   "metadata": {},
   "outputs": [],
   "source": [
    "P3f = abs(Z1)*m.cos(cm.phase(Z1))*abs(Ia)**2 + abs(Z2)*m.cos(cm.phase(Z2))*abs(Ib)**2 + abs(Z3)*m.cos(cm.phase(Z3))*abs(Ic)**2 "
   ]
  },
  {
   "cell_type": "code",
   "execution_count": 28,
   "id": "cd07b4a9",
   "metadata": {},
   "outputs": [],
   "source": [
    "Q3f = abs(Z1)*m.sin(cm.phase(Z1))*abs(Ia)**2 + abs(Z2)*m.sin(cm.phase(Z2))*abs(Ib)**2 + abs(Z3)*m.sin(cm.phase(Z3))*abs(Ic)**2 "
   ]
  },
  {
   "cell_type": "markdown",
   "id": "6f6a8048",
   "metadata": {},
   "source": [
    "## Fator de Potencia"
   ]
  },
  {
   "cell_type": "code",
   "execution_count": 29,
   "id": "4b427b36",
   "metadata": {},
   "outputs": [],
   "source": [
    "FP = m.cos(m.atan(Q3f/P3f))"
   ]
  },
  {
   "cell_type": "markdown",
   "id": "0dafe888",
   "metadata": {},
   "source": [
    "## Vizualização"
   ]
  },
  {
   "cell_type": "code",
   "execution_count": 30,
   "id": "d4bbb653",
   "metadata": {
    "scrolled": false
   },
   "outputs": [
    {
     "data": {
      "text/html": [
       "<div>\n",
       "<style scoped>\n",
       "    .dataframe tbody tr th:only-of-type {\n",
       "        vertical-align: middle;\n",
       "    }\n",
       "\n",
       "    .dataframe tbody tr th {\n",
       "        vertical-align: top;\n",
       "    }\n",
       "\n",
       "    .dataframe thead th {\n",
       "        text-align: right;\n",
       "    }\n",
       "</style>\n",
       "<table border=\"1\" class=\"dataframe\">\n",
       "  <thead>\n",
       "    <tr style=\"text-align: right;\">\n",
       "      <th></th>\n",
       "      <th>Módulo</th>\n",
       "      <th>fase</th>\n",
       "    </tr>\n",
       "  </thead>\n",
       "  <tbody>\n",
       "    <tr>\n",
       "      <th>Z1</th>\n",
       "      <td>200.0</td>\n",
       "      <td>0.000000</td>\n",
       "    </tr>\n",
       "    <tr>\n",
       "      <th>Z2</th>\n",
       "      <td>101.903379</td>\n",
       "      <td>11.091348</td>\n",
       "    </tr>\n",
       "    <tr>\n",
       "      <th>Z3</th>\n",
       "      <td>145.800924</td>\n",
       "      <td>-46.696193</td>\n",
       "    </tr>\n",
       "    <tr>\n",
       "      <th>Ia</th>\n",
       "      <td>[0.9362539048940582]</td>\n",
       "      <td>8.879366</td>\n",
       "    </tr>\n",
       "    <tr>\n",
       "      <th>Ib</th>\n",
       "      <td>[0.797501364556153]</td>\n",
       "      <td>-104.967216</td>\n",
       "    </tr>\n",
       "    <tr>\n",
       "      <th>Ic</th>\n",
       "      <td>[0.9533330265667562]</td>\n",
       "      <td>138.961181</td>\n",
       "    </tr>\n",
       "    <tr>\n",
       "      <th>W1</th>\n",
       "      <td>[192.11338373926998]</td>\n",
       "      <td>0.000000</td>\n",
       "    </tr>\n",
       "    <tr>\n",
       "      <th>W2</th>\n",
       "      <td>[137.68611974779026]</td>\n",
       "      <td>0.000000</td>\n",
       "    </tr>\n",
       "    <tr>\n",
       "      <th>P3f</th>\n",
       "      <td>[329.79950348706024]</td>\n",
       "      <td>0.000000</td>\n",
       "    </tr>\n",
       "    <tr>\n",
       "      <th>P3f (Blondel)</th>\n",
       "      <td>[329.79950348706024]</td>\n",
       "      <td>0.000000</td>\n",
       "    </tr>\n",
       "    <tr>\n",
       "      <th>Q3f</th>\n",
       "      <td>[83.96331303930151]</td>\n",
       "      <td>180.000000</td>\n",
       "    </tr>\n",
       "    <tr>\n",
       "      <th>FP</th>\n",
       "      <td>0.969087</td>\n",
       "      <td>0.000000</td>\n",
       "    </tr>\n",
       "  </tbody>\n",
       "</table>\n",
       "</div>"
      ],
      "text/plain": [
       "                             Módulo        fase\n",
       "Z1                            200.0    0.000000\n",
       "Z2                       101.903379   11.091348\n",
       "Z3                       145.800924  -46.696193\n",
       "Ia             [0.9362539048940582]    8.879366\n",
       "Ib              [0.797501364556153] -104.967216\n",
       "Ic             [0.9533330265667562]  138.961181\n",
       "W1             [192.11338373926998]    0.000000\n",
       "W2             [137.68611974779026]    0.000000\n",
       "P3f            [329.79950348706024]    0.000000\n",
       "P3f (Blondel)  [329.79950348706024]    0.000000\n",
       "Q3f             [83.96331303930151]  180.000000\n",
       "FP                         0.969087    0.000000"
      ]
     },
     "metadata": {},
     "output_type": "display_data"
    }
   ],
   "source": [
    "vals = [Z1, Z2 ,Z3,\n",
    "        Ia, Ib, Ic,\n",
    "        W1, W2 ,\n",
    "        P3f, P3f_bl,\n",
    "        Q3f,\n",
    "        FP]\n",
    "datas = []\n",
    "for i in vals:\n",
    "    f = [abs(i),(cm.phase(i))*180/(m.pi)]\n",
    "    datas.append(f)\n",
    "df_vals = pd.DataFrame(data = datas, \n",
    "                       index = ['Z1', 'Z2', 'Z3', \n",
    "                                'Ia', 'Ib', 'Ic',\n",
    "                                'W1', 'W2',\n",
    "                                'P3f', 'P3f (Blondel)', \n",
    "                                'Q3f', \n",
    "                                'FP'], \n",
    "                       columns = ['Módulo','fase'])\n",
    "display(df_vals)"
   ]
  },
  {
   "cell_type": "markdown",
   "id": "df4afdc6",
   "metadata": {},
   "source": [
    "# Caso 4"
   ]
  },
  {
   "cell_type": "markdown",
   "id": "1fb8fdcc",
   "metadata": {},
   "source": [
    "## Impedancias\n",
    "Mesmas impedancias do caso 3"
   ]
  },
  {
   "cell_type": "markdown",
   "id": "728506e5",
   "metadata": {},
   "source": [
    "## Correntes"
   ]
  },
  {
   "cell_type": "code",
   "execution_count": 31,
   "id": "5791cfde",
   "metadata": {},
   "outputs": [],
   "source": [
    "Ia = Van/Z1\n",
    "Ib = Vbn/Z2\n",
    "Ic = Vcn/Z3"
   ]
  },
  {
   "cell_type": "markdown",
   "id": "156661b4",
   "metadata": {},
   "source": [
    "## Potencias"
   ]
  },
  {
   "cell_type": "code",
   "execution_count": 32,
   "id": "e12df04f",
   "metadata": {},
   "outputs": [],
   "source": [
    "W1 = abs(abs(Van) * abs(Ia) * m.cos((cm.phase(Van)-cm.phase(Ia))))\n",
    "W2 = abs(abs(Vbn) * abs(Ib) * m.cos((cm.phase(Vbn)-cm.phase(Ib))))\n",
    "W3 = abs(abs(Vcn) * abs(Ic) * m.cos((cm.phase(Vcn)-cm.phase(Ic))))\n",
    "P3f_bl = W1 + W2 + W3"
   ]
  },
  {
   "cell_type": "code",
   "execution_count": 33,
   "id": "c173ae3f",
   "metadata": {},
   "outputs": [],
   "source": [
    "P3f = abs(Z1)*m.cos(cm.phase(Z1))*abs(Ia)**2 + abs(Z2)*m.cos(cm.phase(Z2))*abs(Ib)**2 + abs(Z3)*m.cos(cm.phase(Z3))*abs(Ic)**2 "
   ]
  },
  {
   "cell_type": "code",
   "execution_count": 34,
   "id": "9cc9edae",
   "metadata": {},
   "outputs": [],
   "source": [
    "Q3f = abs(Z1)*m.sin(cm.phase(Z1))*abs(Ia)**2 + abs(Z2)*m.sin(cm.phase(Z2))*abs(Ib)**2 + abs(Z3)*m.sin(cm.phase(Z3))*abs(Ic)**2 "
   ]
  },
  {
   "cell_type": "markdown",
   "id": "0d9089ff",
   "metadata": {},
   "source": [
    "## Fator de Potencia"
   ]
  },
  {
   "cell_type": "code",
   "execution_count": 35,
   "id": "152f9ab7",
   "metadata": {},
   "outputs": [],
   "source": [
    "FP = m.cos(m.atan(Q3f/P3f))"
   ]
  },
  {
   "cell_type": "code",
   "execution_count": 36,
   "id": "c692a608",
   "metadata": {},
   "outputs": [],
   "source": [
    "FPa = m.cos(cm.phase(Van)-cm.phase(Ia))\n",
    "FPb = m.cos(cm.phase(Vbn)-cm.phase(Ib))\n",
    "FPc = m.cos(cm.phase(Vcn)-cm.phase(Ic))"
   ]
  },
  {
   "cell_type": "markdown",
   "id": "76cbf5b3",
   "metadata": {},
   "source": [
    "## Vizualização"
   ]
  },
  {
   "cell_type": "code",
   "execution_count": 37,
   "id": "8f48f58f",
   "metadata": {},
   "outputs": [
    {
     "data": {
      "text/html": [
       "<div>\n",
       "<style scoped>\n",
       "    .dataframe tbody tr th:only-of-type {\n",
       "        vertical-align: middle;\n",
       "    }\n",
       "\n",
       "    .dataframe tbody tr th {\n",
       "        vertical-align: top;\n",
       "    }\n",
       "\n",
       "    .dataframe thead th {\n",
       "        text-align: right;\n",
       "    }\n",
       "</style>\n",
       "<table border=\"1\" class=\"dataframe\">\n",
       "  <thead>\n",
       "    <tr style=\"text-align: right;\">\n",
       "      <th></th>\n",
       "      <th>Módulo</th>\n",
       "      <th>fase</th>\n",
       "    </tr>\n",
       "  </thead>\n",
       "  <tbody>\n",
       "    <tr>\n",
       "      <th>Z1</th>\n",
       "      <td>200.000000</td>\n",
       "      <td>0.000000</td>\n",
       "    </tr>\n",
       "    <tr>\n",
       "      <th>Z2</th>\n",
       "      <td>101.903379</td>\n",
       "      <td>11.091348</td>\n",
       "    </tr>\n",
       "    <tr>\n",
       "      <th>Z3</th>\n",
       "      <td>145.800924</td>\n",
       "      <td>-46.696193</td>\n",
       "    </tr>\n",
       "    <tr>\n",
       "      <th>Ia</th>\n",
       "      <td>0.635000</td>\n",
       "      <td>0.000000</td>\n",
       "    </tr>\n",
       "    <tr>\n",
       "      <th>Ib</th>\n",
       "      <td>1.246279</td>\n",
       "      <td>-131.091348</td>\n",
       "    </tr>\n",
       "    <tr>\n",
       "      <th>Ic</th>\n",
       "      <td>0.871051</td>\n",
       "      <td>166.696193</td>\n",
       "    </tr>\n",
       "    <tr>\n",
       "      <th>W1</th>\n",
       "      <td>80.645000</td>\n",
       "      <td>0.000000</td>\n",
       "    </tr>\n",
       "    <tr>\n",
       "      <th>W2</th>\n",
       "      <td>155.321033</td>\n",
       "      <td>0.000000</td>\n",
       "    </tr>\n",
       "    <tr>\n",
       "      <th>W3</th>\n",
       "      <td>75.872936</td>\n",
       "      <td>0.000000</td>\n",
       "    </tr>\n",
       "    <tr>\n",
       "      <th>P3f</th>\n",
       "      <td>311.838969</td>\n",
       "      <td>0.000000</td>\n",
       "    </tr>\n",
       "    <tr>\n",
       "      <th>P3f (Blondel)</th>\n",
       "      <td>311.838969</td>\n",
       "      <td>0.000000</td>\n",
       "    </tr>\n",
       "    <tr>\n",
       "      <th>Q3f</th>\n",
       "      <td>50.055268</td>\n",
       "      <td>180.000000</td>\n",
       "    </tr>\n",
       "    <tr>\n",
       "      <th>FP</th>\n",
       "      <td>0.987361</td>\n",
       "      <td>0.000000</td>\n",
       "    </tr>\n",
       "    <tr>\n",
       "      <th>FPa</th>\n",
       "      <td>1.000000</td>\n",
       "      <td>0.000000</td>\n",
       "    </tr>\n",
       "    <tr>\n",
       "      <th>FPb</th>\n",
       "      <td>0.981322</td>\n",
       "      <td>0.000000</td>\n",
       "    </tr>\n",
       "    <tr>\n",
       "      <th>FPc</th>\n",
       "      <td>0.685867</td>\n",
       "      <td>0.000000</td>\n",
       "    </tr>\n",
       "  </tbody>\n",
       "</table>\n",
       "</div>"
      ],
      "text/plain": [
       "                   Módulo        fase\n",
       "Z1             200.000000    0.000000\n",
       "Z2             101.903379   11.091348\n",
       "Z3             145.800924  -46.696193\n",
       "Ia               0.635000    0.000000\n",
       "Ib               1.246279 -131.091348\n",
       "Ic               0.871051  166.696193\n",
       "W1              80.645000    0.000000\n",
       "W2             155.321033    0.000000\n",
       "W3              75.872936    0.000000\n",
       "P3f            311.838969    0.000000\n",
       "P3f (Blondel)  311.838969    0.000000\n",
       "Q3f             50.055268  180.000000\n",
       "FP               0.987361    0.000000\n",
       "FPa              1.000000    0.000000\n",
       "FPb              0.981322    0.000000\n",
       "FPc              0.685867    0.000000"
      ]
     },
     "metadata": {},
     "output_type": "display_data"
    }
   ],
   "source": [
    "vals = [Z1, Z2 ,Z3,\n",
    "        Ia, Ib, Ic,\n",
    "        W1, W2, W3,\n",
    "        P3f, P3f_bl,\n",
    "        Q3f,\n",
    "        FP, \n",
    "        FPa, FPb, FPc]\n",
    "datas = []\n",
    "for i in vals:\n",
    "    f = [abs(i),(cm.phase(i))*180/(m.pi)]\n",
    "    datas.append(f)\n",
    "df_vals = pd.DataFrame(data = datas, \n",
    "                       index = ['Z1', 'Z2', 'Z3', \n",
    "                                'Ia', 'Ib', 'Ic',\n",
    "                                'W1', 'W2', 'W3',\n",
    "                                'P3f', 'P3f (Blondel)', \n",
    "                                'Q3f', \n",
    "                                'FP', \n",
    "                                'FPa', 'FPb', 'FPc'], \n",
    "                       columns = ['Módulo','fase'])\n",
    "display(df_vals)"
   ]
  },
  {
   "cell_type": "markdown",
   "id": "9bb53df0",
   "metadata": {},
   "source": [
    "# Caso 5"
   ]
  },
  {
   "cell_type": "code",
   "execution_count": 38,
   "id": "6b837f3b",
   "metadata": {},
   "outputs": [],
   "source": [
    "Z1c = Z1*jXc/(Z1+jXc)\n",
    "Z2c = Z2*jXc/(Z2+jXc)\n",
    "Z3c = Z2*jXc/(Z3+jXc)"
   ]
  },
  {
   "cell_type": "markdown",
   "id": "ae477bf2",
   "metadata": {},
   "source": [
    "## Correntes"
   ]
  },
  {
   "cell_type": "code",
   "execution_count": 39,
   "id": "96b44b06",
   "metadata": {},
   "outputs": [],
   "source": [
    "Ia1 = Van/Z1\n",
    "Ib1 = Vbn/Z2\n",
    "Ic1 = Vcn/Z3\n",
    "\n",
    "Ia2 = Van/jXc\n",
    "Ib2 = Vbn/jXc\n",
    "Ic2 = Vcn/jXc\n",
    "\n",
    "Ia = Ia1 + Ia2\n",
    "Ib = Ib1 + Ib2\n",
    "Ic = Ic1 + Ic2"
   ]
  },
  {
   "cell_type": "markdown",
   "id": "a80c04ca",
   "metadata": {},
   "source": [
    "## Potencias"
   ]
  },
  {
   "cell_type": "code",
   "execution_count": 40,
   "id": "51c5560f",
   "metadata": {},
   "outputs": [],
   "source": [
    "W1 = abs(abs(Van) * abs(Ia) * m.cos((cm.phase(Van)-cm.phase(Ia))))\n",
    "W2 = abs(abs(Vbn) * abs(Ib) * m.cos((cm.phase(Vbn)-cm.phase(Ib))))\n",
    "W3 = abs(abs(Vcn) * abs(Ic) * m.cos((cm.phase(Vcn)-cm.phase(Ic))))\n",
    "P3f_bl = W1 + W2 + W3"
   ]
  },
  {
   "cell_type": "code",
   "execution_count": 41,
   "id": "9094acd6",
   "metadata": {},
   "outputs": [],
   "source": [
    "P3f = abs(Z1c)*m.cos(cm.phase(Z1c))*abs(Ia)**2 + abs(Z2c)*m.cos(cm.phase(Z2c))*abs(Ib)**2 + abs(Z3c)*m.cos(cm.phase(Z3c))*abs(Ic)**2 "
   ]
  },
  {
   "cell_type": "code",
   "execution_count": 42,
   "id": "fea1be4e",
   "metadata": {},
   "outputs": [],
   "source": [
    "Q3f = abs(Z1c)*m.sin(cm.phase(Z1c))*abs(Ia)**2 + abs(Z2c)*m.sin(cm.phase(Z2c))*abs(Ib)**2 + abs(Z3c)*m.sin(cm.phase(Z3c))*abs(Ic)**2 "
   ]
  },
  {
   "cell_type": "markdown",
   "id": "ec54d63e",
   "metadata": {},
   "source": [
    "## Fator de Potencia"
   ]
  },
  {
   "cell_type": "code",
   "execution_count": 43,
   "id": "b9482030",
   "metadata": {},
   "outputs": [],
   "source": [
    "FP = m.cos(m.atan(Q3f/P3f))"
   ]
  },
  {
   "cell_type": "code",
   "execution_count": 44,
   "id": "82561b04",
   "metadata": {},
   "outputs": [],
   "source": [
    "FPa = m.cos(cm.phase(Van)-cm.phase(Ia))\n",
    "FPb = m.cos(cm.phase(Vbn)-cm.phase(Ib))\n",
    "FPc = m.cos(cm.phase(Vcn)-cm.phase(Ic))"
   ]
  },
  {
   "cell_type": "markdown",
   "id": "2cb9499f",
   "metadata": {},
   "source": [
    "## Vizualização"
   ]
  },
  {
   "cell_type": "code",
   "execution_count": 45,
   "id": "66fe432f",
   "metadata": {
    "scrolled": false
   },
   "outputs": [
    {
     "data": {
      "text/html": [
       "<div>\n",
       "<style scoped>\n",
       "    .dataframe tbody tr th:only-of-type {\n",
       "        vertical-align: middle;\n",
       "    }\n",
       "\n",
       "    .dataframe tbody tr th {\n",
       "        vertical-align: top;\n",
       "    }\n",
       "\n",
       "    .dataframe thead th {\n",
       "        text-align: right;\n",
       "    }\n",
       "</style>\n",
       "<table border=\"1\" class=\"dataframe\">\n",
       "  <thead>\n",
       "    <tr style=\"text-align: right;\">\n",
       "      <th></th>\n",
       "      <th>Módulo</th>\n",
       "      <th>fase</th>\n",
       "    </tr>\n",
       "  </thead>\n",
       "  <tbody>\n",
       "    <tr>\n",
       "      <th>Z1</th>\n",
       "      <td>200.000000</td>\n",
       "      <td>0.000000</td>\n",
       "    </tr>\n",
       "    <tr>\n",
       "      <th>Z2</th>\n",
       "      <td>101.903379</td>\n",
       "      <td>11.091348</td>\n",
       "    </tr>\n",
       "    <tr>\n",
       "      <th>Z3</th>\n",
       "      <td>145.800924</td>\n",
       "      <td>-46.696193</td>\n",
       "    </tr>\n",
       "    <tr>\n",
       "      <th>Ia</th>\n",
       "      <td>1.354956</td>\n",
       "      <td>62.053313</td>\n",
       "    </tr>\n",
       "    <tr>\n",
       "      <th>Ib</th>\n",
       "      <td>1.553046</td>\n",
       "      <td>-81.951074</td>\n",
       "    </tr>\n",
       "    <tr>\n",
       "      <th>Ic</th>\n",
       "      <td>1.925843</td>\n",
       "      <td>-168.072170</td>\n",
       "    </tr>\n",
       "    <tr>\n",
       "      <th>W1</th>\n",
       "      <td>80.645000</td>\n",
       "      <td>0.000000</td>\n",
       "    </tr>\n",
       "    <tr>\n",
       "      <th>W2</th>\n",
       "      <td>155.321033</td>\n",
       "      <td>0.000000</td>\n",
       "    </tr>\n",
       "    <tr>\n",
       "      <th>W3</th>\n",
       "      <td>75.872936</td>\n",
       "      <td>0.000000</td>\n",
       "    </tr>\n",
       "    <tr>\n",
       "      <th>P3f</th>\n",
       "      <td>401.730113</td>\n",
       "      <td>0.000000</td>\n",
       "    </tr>\n",
       "    <tr>\n",
       "      <th>P3f (Blondel)</th>\n",
       "      <td>311.838969</td>\n",
       "      <td>0.000000</td>\n",
       "    </tr>\n",
       "    <tr>\n",
       "      <th>Q3f</th>\n",
       "      <td>315.337067</td>\n",
       "      <td>180.000000</td>\n",
       "    </tr>\n",
       "    <tr>\n",
       "      <th>FP</th>\n",
       "      <td>0.786611</td>\n",
       "      <td>0.000000</td>\n",
       "    </tr>\n",
       "    <tr>\n",
       "      <th>FPa</th>\n",
       "      <td>0.468650</td>\n",
       "      <td>0.000000</td>\n",
       "    </tr>\n",
       "    <tr>\n",
       "      <th>FPb</th>\n",
       "      <td>0.787485</td>\n",
       "      <td>0.000000</td>\n",
       "    </tr>\n",
       "    <tr>\n",
       "      <th>FPc</th>\n",
       "      <td>0.310215</td>\n",
       "      <td>0.000000</td>\n",
       "    </tr>\n",
       "  </tbody>\n",
       "</table>\n",
       "</div>"
      ],
      "text/plain": [
       "                   Módulo        fase\n",
       "Z1             200.000000    0.000000\n",
       "Z2             101.903379   11.091348\n",
       "Z3             145.800924  -46.696193\n",
       "Ia               1.354956   62.053313\n",
       "Ib               1.553046  -81.951074\n",
       "Ic               1.925843 -168.072170\n",
       "W1              80.645000    0.000000\n",
       "W2             155.321033    0.000000\n",
       "W3              75.872936    0.000000\n",
       "P3f            401.730113    0.000000\n",
       "P3f (Blondel)  311.838969    0.000000\n",
       "Q3f            315.337067  180.000000\n",
       "FP               0.786611    0.000000\n",
       "FPa              0.468650    0.000000\n",
       "FPb              0.787485    0.000000\n",
       "FPc              0.310215    0.000000"
      ]
     },
     "metadata": {},
     "output_type": "display_data"
    }
   ],
   "source": [
    "vals = [Z1, Z2 ,Z3,\n",
    "        Ia, Ib, Ic,\n",
    "        W1, W2, W3,\n",
    "        P3f, P3f_bl,\n",
    "        Q3f,\n",
    "        FP, \n",
    "        FPa, FPb, FPc]\n",
    "datas = []\n",
    "for i in vals:\n",
    "    f = [abs(i),(cm.phase(i))*180/(m.pi)]\n",
    "    datas.append(f)\n",
    "df_vals = pd.DataFrame(data = datas, \n",
    "                       index = ['Z1', 'Z2', 'Z3', \n",
    "                                'Ia', 'Ib', 'Ic',\n",
    "                                'W1', 'W2', 'W3',\n",
    "                                'P3f', 'P3f (Blondel)', \n",
    "                                'Q3f', \n",
    "                                'FP', \n",
    "                                'FPa', 'FPb', 'FPc'], \n",
    "                       columns = ['Módulo','fase'])\n",
    "display(df_vals)"
   ]
  }
 ],
 "metadata": {
  "kernelspec": {
   "display_name": "Python 3 (ipykernel)",
   "language": "python",
   "name": "python3"
  },
  "language_info": {
   "codemirror_mode": {
    "name": "ipython",
    "version": 3
   },
   "file_extension": ".py",
   "mimetype": "text/x-python",
   "name": "python",
   "nbconvert_exporter": "python",
   "pygments_lexer": "ipython3",
   "version": "3.7.10"
  }
 },
 "nbformat": 4,
 "nbformat_minor": 5
}
