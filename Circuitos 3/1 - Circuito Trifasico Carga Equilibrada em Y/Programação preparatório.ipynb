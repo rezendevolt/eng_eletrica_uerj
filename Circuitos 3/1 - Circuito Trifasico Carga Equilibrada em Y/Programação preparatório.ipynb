{
 "cells": [
  {
   "cell_type": "markdown",
   "id": "7c2234e1",
   "metadata": {},
   "source": [
    "# Preparatorio\n",
    "## Experiencia 1 - Circuito Trifásico: Carga Equilibrada em Y\n",
    "Aluno: Victor Hugo de Avelar Rezende \\\n",
    "Professor: Sergio Leon Escalante"
   ]
  },
  {
   "cell_type": "markdown",
   "id": "1d74ecfe",
   "metadata": {},
   "source": [
    "## Bibliotecas"
   ]
  },
  {
   "cell_type": "code",
   "execution_count": 9,
   "id": "e6ea1a04",
   "metadata": {},
   "outputs": [],
   "source": [
    "import math as m\n",
    "import cmath as cm\n",
    "import pandas as pd\n"
   ]
  },
  {
   "cell_type": "markdown",
   "id": "3b8c34dc",
   "metadata": {},
   "source": [
    "## Préambulo"
   ]
  },
  {
   "cell_type": "markdown",
   "id": "da14f3c4",
   "metadata": {},
   "source": [
    "### Resistencias"
   ]
  },
  {
   "cell_type": "code",
   "execution_count": 2,
   "id": "8ed2b1f6",
   "metadata": {},
   "outputs": [],
   "source": [
    "Ra = Rb = Rc = 230"
   ]
  },
  {
   "cell_type": "markdown",
   "id": "50b942cc",
   "metadata": {},
   "source": [
    "### Tensão de fase"
   ]
  },
  {
   "cell_type": "code",
   "execution_count": 16,
   "id": "1f041333",
   "metadata": {},
   "outputs": [],
   "source": [
    "Van = 127*complex(m.cos(0),m.sin(0))\n",
    "Vbn = 127*complex(m.cos(-(m.pi*120)/180),m.sin(-(m.pi*120)/180))\n",
    "Vcn = 127*complex(m.cos((m.pi*120)/180),m.sin((m.pi*120)/180))"
   ]
  },
  {
   "cell_type": "markdown",
   "id": "3d1374ba",
   "metadata": {},
   "source": [
    "### Tensão de linha"
   ]
  },
  {
   "cell_type": "code",
   "execution_count": 18,
   "id": "04210acb",
   "metadata": {},
   "outputs": [],
   "source": [
    "Vab = Van - Vbn\n",
    "Vac = Vcn - Van  \n",
    "Vbc = Vbn - Vcn"
   ]
  },
  {
   "cell_type": "markdown",
   "id": "ced66396",
   "metadata": {},
   "source": [
    "### Corrente de fase"
   ]
  },
  {
   "cell_type": "code",
   "execution_count": 19,
   "id": "d5429e15",
   "metadata": {},
   "outputs": [],
   "source": [
    "Ian = Van/Ra\n",
    "Ibn = Vbn/Rb\n",
    "Icn = Vcn/Rc"
   ]
  },
  {
   "cell_type": "markdown",
   "id": "8bc0675c",
   "metadata": {},
   "source": [
    "### Corrente de carga"
   ]
  },
  {
   "cell_type": "code",
   "execution_count": 20,
   "id": "ec25660a",
   "metadata": {},
   "outputs": [],
   "source": [
    "Ia = Ian\n",
    "Ib = Ibn\n",
    "Ic = Icn"
   ]
  },
  {
   "cell_type": "markdown",
   "id": "5fe797ff",
   "metadata": {},
   "source": [
    "## Dataframe"
   ]
  },
  {
   "cell_type": "markdown",
   "id": "51dafc2d",
   "metadata": {},
   "source": [
    "### Contrução do Dataframe"
   ]
  },
  {
   "cell_type": "code",
   "execution_count": 32,
   "id": "562197aa",
   "metadata": {},
   "outputs": [],
   "source": [
    "vals = [Van, Vbn ,Vcn,\n",
    "        Vab, Vac, Vbc,\n",
    "        Ian, Ibn, Icn,\n",
    "        Ia,  Ib,  Ic]\n",
    "datas = []\n",
    "for i in vals:\n",
    "    f = [abs(i),(cm.phase(i))*180/(ma.pi)]\n",
    "    datas.append(f)\n",
    "df_vals = pd.DataFrame(data = datas, \n",
    "                       index = ['Van','Vbn','Vcn',\n",
    "                                'Vab','Vac','Vbc',\n",
    "                                'Ian','Ibn','Icn',\n",
    "                                'Ia','Ib','Ic'], \n",
    "                       columns = ['Módulo','fase'])"
   ]
  },
  {
   "cell_type": "markdown",
   "id": "8aa74868",
   "metadata": {},
   "source": [
    "## Vizualização dos dados"
   ]
  },
  {
   "cell_type": "code",
   "execution_count": 33,
   "id": "98aeb1bd",
   "metadata": {},
   "outputs": [
    {
     "data": {
      "text/html": [
       "<div>\n",
       "<style scoped>\n",
       "    .dataframe tbody tr th:only-of-type {\n",
       "        vertical-align: middle;\n",
       "    }\n",
       "\n",
       "    .dataframe tbody tr th {\n",
       "        vertical-align: top;\n",
       "    }\n",
       "\n",
       "    .dataframe thead th {\n",
       "        text-align: right;\n",
       "    }\n",
       "</style>\n",
       "<table border=\"1\" class=\"dataframe\">\n",
       "  <thead>\n",
       "    <tr style=\"text-align: right;\">\n",
       "      <th></th>\n",
       "      <th>Módulo</th>\n",
       "      <th>fase</th>\n",
       "    </tr>\n",
       "  </thead>\n",
       "  <tbody>\n",
       "    <tr>\n",
       "      <th>Van</th>\n",
       "      <td>127.000000</td>\n",
       "      <td>0.0</td>\n",
       "    </tr>\n",
       "    <tr>\n",
       "      <th>Vbn</th>\n",
       "      <td>127.000000</td>\n",
       "      <td>-120.0</td>\n",
       "    </tr>\n",
       "    <tr>\n",
       "      <th>Vcn</th>\n",
       "      <td>127.000000</td>\n",
       "      <td>120.0</td>\n",
       "    </tr>\n",
       "    <tr>\n",
       "      <th>Vab</th>\n",
       "      <td>219.970453</td>\n",
       "      <td>30.0</td>\n",
       "    </tr>\n",
       "    <tr>\n",
       "      <th>Vac</th>\n",
       "      <td>219.970453</td>\n",
       "      <td>150.0</td>\n",
       "    </tr>\n",
       "    <tr>\n",
       "      <th>Vbc</th>\n",
       "      <td>219.970453</td>\n",
       "      <td>-90.0</td>\n",
       "    </tr>\n",
       "    <tr>\n",
       "      <th>Ian</th>\n",
       "      <td>0.552174</td>\n",
       "      <td>0.0</td>\n",
       "    </tr>\n",
       "    <tr>\n",
       "      <th>Ibn</th>\n",
       "      <td>0.552174</td>\n",
       "      <td>-120.0</td>\n",
       "    </tr>\n",
       "    <tr>\n",
       "      <th>Icn</th>\n",
       "      <td>0.552174</td>\n",
       "      <td>120.0</td>\n",
       "    </tr>\n",
       "    <tr>\n",
       "      <th>Ia</th>\n",
       "      <td>0.552174</td>\n",
       "      <td>0.0</td>\n",
       "    </tr>\n",
       "    <tr>\n",
       "      <th>Ib</th>\n",
       "      <td>0.552174</td>\n",
       "      <td>-120.0</td>\n",
       "    </tr>\n",
       "    <tr>\n",
       "      <th>Ic</th>\n",
       "      <td>0.552174</td>\n",
       "      <td>120.0</td>\n",
       "    </tr>\n",
       "  </tbody>\n",
       "</table>\n",
       "</div>"
      ],
      "text/plain": [
       "         Módulo   fase\n",
       "Van  127.000000    0.0\n",
       "Vbn  127.000000 -120.0\n",
       "Vcn  127.000000  120.0\n",
       "Vab  219.970453   30.0\n",
       "Vac  219.970453  150.0\n",
       "Vbc  219.970453  -90.0\n",
       "Ian    0.552174    0.0\n",
       "Ibn    0.552174 -120.0\n",
       "Icn    0.552174  120.0\n",
       "Ia     0.552174    0.0\n",
       "Ib     0.552174 -120.0\n",
       "Ic     0.552174  120.0"
      ]
     },
     "metadata": {},
     "output_type": "display_data"
    }
   ],
   "source": [
    "display(df_vals)"
   ]
  }
 ],
 "metadata": {
  "kernelspec": {
   "display_name": "Python 3 (ipykernel)",
   "language": "python",
   "name": "python3"
  },
  "language_info": {
   "codemirror_mode": {
    "name": "ipython",
    "version": 3
   },
   "file_extension": ".py",
   "mimetype": "text/x-python",
   "name": "python",
   "nbconvert_exporter": "python",
   "pygments_lexer": "ipython3",
   "version": "3.7.10"
  }
 },
 "nbformat": 4,
 "nbformat_minor": 5
}
