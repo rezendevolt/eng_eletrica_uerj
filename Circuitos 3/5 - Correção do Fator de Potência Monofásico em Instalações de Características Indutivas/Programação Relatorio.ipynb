{
 "cells": [
  {
   "cell_type": "markdown",
   "id": "5453b0a1",
   "metadata": {},
   "source": [
    "# Experimento 5\n",
    "## Correção do Fator de Potência Monofásico em Instalações de Características Indutivas\n",
    "Aluno: \n",
    "    \n",
    "    Victor Hugo de Avelar Rezende\n",
    "\n",
    "Professor: \n",
    "\n",
    "    Sergio Leon Escalante"
   ]
  },
  {
   "cell_type": "markdown",
   "id": "975b2043",
   "metadata": {},
   "source": [
    "# Bilbliotecas"
   ]
  },
  {
   "cell_type": "code",
   "execution_count": 24,
   "id": "57965039",
   "metadata": {},
   "outputs": [],
   "source": [
    "import math as m\n",
    "import cmath as cm\n",
    "import pandas as pd\n",
    "import numpy as np"
   ]
  },
  {
   "cell_type": "markdown",
   "id": "366ff3cc",
   "metadata": {},
   "source": [
    "# Preambulo"
   ]
  },
  {
   "cell_type": "code",
   "execution_count": 25,
   "id": "dfc7e160",
   "metadata": {},
   "outputs": [],
   "source": [
    "V = 220.22\n",
    "C = 36.7E-6\n",
    "L=0.23\n",
    "f = 60\n",
    "Xc = 1/(2*np.pi*f*C)"
   ]
  },
  {
   "cell_type": "markdown",
   "id": "c0a0bb23",
   "metadata": {},
   "source": [
    "# 1° Caso"
   ]
  },
  {
   "cell_type": "code",
   "execution_count": 26,
   "id": "120c9ec8",
   "metadata": {},
   "outputs": [],
   "source": [
    "R = 230.1\n",
    "I = V/R\n",
    "P = V*I"
   ]
  },
  {
   "cell_type": "code",
   "execution_count": 27,
   "id": "7f689b96",
   "metadata": {},
   "outputs": [
    {
     "data": {
      "text/html": [
       "<div>\n",
       "<style scoped>\n",
       "    .dataframe tbody tr th:only-of-type {\n",
       "        vertical-align: middle;\n",
       "    }\n",
       "\n",
       "    .dataframe tbody tr th {\n",
       "        vertical-align: top;\n",
       "    }\n",
       "\n",
       "    .dataframe thead th {\n",
       "        text-align: right;\n",
       "    }\n",
       "</style>\n",
       "<table border=\"1\" class=\"dataframe\">\n",
       "  <thead>\n",
       "    <tr style=\"text-align: right;\">\n",
       "      <th></th>\n",
       "      <th>Módulo</th>\n",
       "      <th>fase</th>\n",
       "    </tr>\n",
       "  </thead>\n",
       "  <tbody>\n",
       "    <tr>\n",
       "      <th>I</th>\n",
       "      <td>0.957062</td>\n",
       "      <td>0.0</td>\n",
       "    </tr>\n",
       "    <tr>\n",
       "      <th>P</th>\n",
       "      <td>210.764226</td>\n",
       "      <td>0.0</td>\n",
       "    </tr>\n",
       "    <tr>\n",
       "      <th>R</th>\n",
       "      <td>230.100000</td>\n",
       "      <td>0.0</td>\n",
       "    </tr>\n",
       "  </tbody>\n",
       "</table>\n",
       "</div>"
      ],
      "text/plain": [
       "       Módulo  fase\n",
       "I    0.957062   0.0\n",
       "P  210.764226   0.0\n",
       "R  230.100000   0.0"
      ]
     },
     "metadata": {},
     "output_type": "display_data"
    }
   ],
   "source": [
    "vals = [I, P ,R]\n",
    "datas = []\n",
    "for i in vals:\n",
    "    f = [abs(i),(cm.phase(i))*180/(m.pi)]\n",
    "    datas.append(f)\n",
    "df_vals = pd.DataFrame(data = datas, \n",
    "                       index = ['I', 'P', 'R'], \n",
    "                       columns = ['Módulo','fase'])\n",
    "display(df_vals)"
   ]
  },
  {
   "cell_type": "markdown",
   "id": "6e3b1901",
   "metadata": {},
   "source": [
    "# 2° Caso"
   ]
  },
  {
   "cell_type": "code",
   "execution_count": 28,
   "id": "6708c0ea",
   "metadata": {},
   "outputs": [],
   "source": [
    "P = 0\n",
    "jXl = 60*L*2*m.pi*complex(m.cos(np.radians(90)),m.sin(np.radians(90)))\n",
    "I = V/jXl\n"
   ]
  },
  {
   "cell_type": "code",
   "execution_count": 29,
   "id": "e0af5fc9",
   "metadata": {},
   "outputs": [
    {
     "data": {
      "text/html": [
       "<div>\n",
       "<style scoped>\n",
       "    .dataframe tbody tr th:only-of-type {\n",
       "        vertical-align: middle;\n",
       "    }\n",
       "\n",
       "    .dataframe tbody tr th {\n",
       "        vertical-align: top;\n",
       "    }\n",
       "\n",
       "    .dataframe thead th {\n",
       "        text-align: right;\n",
       "    }\n",
       "</style>\n",
       "<table border=\"1\" class=\"dataframe\">\n",
       "  <thead>\n",
       "    <tr style=\"text-align: right;\">\n",
       "      <th></th>\n",
       "      <th>Módulo</th>\n",
       "      <th>fase</th>\n",
       "    </tr>\n",
       "  </thead>\n",
       "  <tbody>\n",
       "    <tr>\n",
       "      <th>I</th>\n",
       "      <td>2.539790</td>\n",
       "      <td>-90.0</td>\n",
       "    </tr>\n",
       "    <tr>\n",
       "      <th>P</th>\n",
       "      <td>0.000000</td>\n",
       "      <td>0.0</td>\n",
       "    </tr>\n",
       "    <tr>\n",
       "      <th>jXl</th>\n",
       "      <td>86.707957</td>\n",
       "      <td>90.0</td>\n",
       "    </tr>\n",
       "  </tbody>\n",
       "</table>\n",
       "</div>"
      ],
      "text/plain": [
       "        Módulo  fase\n",
       "I     2.539790 -90.0\n",
       "P     0.000000   0.0\n",
       "jXl  86.707957  90.0"
      ]
     },
     "metadata": {},
     "output_type": "display_data"
    }
   ],
   "source": [
    "vals = [I, P ,jXl]\n",
    "datas = []\n",
    "for i in vals:\n",
    "    f = [abs(i),(cm.phase(i))*180/(m.pi)]\n",
    "    datas.append(f)\n",
    "df_vals = pd.DataFrame(data = datas, \n",
    "                       index = ['I', 'P', 'jXl'], \n",
    "                       columns = ['Módulo','fase'])\n",
    "display(df_vals)"
   ]
  },
  {
   "cell_type": "markdown",
   "id": "9e705948",
   "metadata": {},
   "source": [
    "# 3° Caso"
   ]
  },
  {
   "cell_type": "code",
   "execution_count": 30,
   "id": "d06b3743",
   "metadata": {},
   "outputs": [],
   "source": [
    "P = 0\n",
    "\n",
    "jXc = complex(0,-Xc)\n",
    "\n",
    "I = V/jXc"
   ]
  },
  {
   "cell_type": "code",
   "execution_count": 31,
   "id": "7cd0ebdf",
   "metadata": {},
   "outputs": [
    {
     "data": {
      "text/html": [
       "<div>\n",
       "<style scoped>\n",
       "    .dataframe tbody tr th:only-of-type {\n",
       "        vertical-align: middle;\n",
       "    }\n",
       "\n",
       "    .dataframe tbody tr th {\n",
       "        vertical-align: top;\n",
       "    }\n",
       "\n",
       "    .dataframe thead th {\n",
       "        text-align: right;\n",
       "    }\n",
       "</style>\n",
       "<table border=\"1\" class=\"dataframe\">\n",
       "  <thead>\n",
       "    <tr style=\"text-align: right;\">\n",
       "      <th></th>\n",
       "      <th>Módulo</th>\n",
       "      <th>fase</th>\n",
       "    </tr>\n",
       "  </thead>\n",
       "  <tbody>\n",
       "    <tr>\n",
       "      <th>I</th>\n",
       "      <td>3.046870</td>\n",
       "      <td>90.0</td>\n",
       "    </tr>\n",
       "    <tr>\n",
       "      <th>P</th>\n",
       "      <td>0.000000</td>\n",
       "      <td>0.0</td>\n",
       "    </tr>\n",
       "    <tr>\n",
       "      <th>jXc</th>\n",
       "      <td>72.277449</td>\n",
       "      <td>-90.0</td>\n",
       "    </tr>\n",
       "  </tbody>\n",
       "</table>\n",
       "</div>"
      ],
      "text/plain": [
       "        Módulo  fase\n",
       "I     3.046870  90.0\n",
       "P     0.000000   0.0\n",
       "jXc  72.277449 -90.0"
      ]
     },
     "metadata": {},
     "output_type": "display_data"
    }
   ],
   "source": [
    "vals = [I, P ,jXc]\n",
    "datas = []\n",
    "for i in vals:\n",
    "    f = [abs(i),(cm.phase(i))*180/(m.pi)]\n",
    "    datas.append(f)\n",
    "df_vals = pd.DataFrame(data = datas, \n",
    "                       index = ['I', 'P', 'jXc'], \n",
    "                       columns = ['Módulo','fase'])\n",
    "display(df_vals)"
   ]
  },
  {
   "cell_type": "markdown",
   "id": "2f6caec2",
   "metadata": {},
   "source": [
    "# 4° Caso "
   ]
  },
  {
   "cell_type": "code",
   "execution_count": 32,
   "id": "c95ba8c1",
   "metadata": {},
   "outputs": [],
   "source": [
    "Xl = jXl/(1j)\n",
    "P = (V**2)/R\n",
    "I12=V/R\n",
    "I34=V/jXl\n",
    "I56=V/jXc\n",
    "\n",
    "I = I12+I34+I56\n",
    "\n",
    "Z=complex(R,Xl-Xc)\n",
    "Fp = m.cos(cm.phase(Z))"
   ]
  },
  {
   "cell_type": "code",
   "execution_count": 33,
   "id": "645dfb0b",
   "metadata": {},
   "outputs": [
    {
     "data": {
      "text/html": [
       "<div>\n",
       "<style scoped>\n",
       "    .dataframe tbody tr th:only-of-type {\n",
       "        vertical-align: middle;\n",
       "    }\n",
       "\n",
       "    .dataframe tbody tr th {\n",
       "        vertical-align: top;\n",
       "    }\n",
       "\n",
       "    .dataframe thead th {\n",
       "        text-align: right;\n",
       "    }\n",
       "</style>\n",
       "<table border=\"1\" class=\"dataframe\">\n",
       "  <thead>\n",
       "    <tr style=\"text-align: right;\">\n",
       "      <th></th>\n",
       "      <th>Módulo</th>\n",
       "      <th>fase</th>\n",
       "    </tr>\n",
       "  </thead>\n",
       "  <tbody>\n",
       "    <tr>\n",
       "      <th>P</th>\n",
       "      <td>210.764226</td>\n",
       "      <td>0.000000</td>\n",
       "    </tr>\n",
       "    <tr>\n",
       "      <th>I12</th>\n",
       "      <td>0.957062</td>\n",
       "      <td>0.000000</td>\n",
       "    </tr>\n",
       "    <tr>\n",
       "      <th>I34</th>\n",
       "      <td>2.539790</td>\n",
       "      <td>-90.000000</td>\n",
       "    </tr>\n",
       "    <tr>\n",
       "      <th>I56</th>\n",
       "      <td>3.046870</td>\n",
       "      <td>90.000000</td>\n",
       "    </tr>\n",
       "    <tr>\n",
       "      <th>I</th>\n",
       "      <td>1.083097</td>\n",
       "      <td>27.915981</td>\n",
       "    </tr>\n",
       "    <tr>\n",
       "      <th>Z</th>\n",
       "      <td>230.552054</td>\n",
       "      <td>3.588552</td>\n",
       "    </tr>\n",
       "    <tr>\n",
       "      <th>Fp</th>\n",
       "      <td>0.998039</td>\n",
       "      <td>0.000000</td>\n",
       "    </tr>\n",
       "  </tbody>\n",
       "</table>\n",
       "</div>"
      ],
      "text/plain": [
       "         Módulo       fase\n",
       "P    210.764226   0.000000\n",
       "I12    0.957062   0.000000\n",
       "I34    2.539790 -90.000000\n",
       "I56    3.046870  90.000000\n",
       "I      1.083097  27.915981\n",
       "Z    230.552054   3.588552\n",
       "Fp     0.998039   0.000000"
      ]
     },
     "metadata": {},
     "output_type": "display_data"
    }
   ],
   "source": [
    "vals = [P ,\n",
    "        I12, I34, I56,\n",
    "        I,\n",
    "        Z,\n",
    "        Fp]\n",
    "datas = []\n",
    "for i in vals:\n",
    "    f = [abs(i),(cm.phase(i))*180/(m.pi)]\n",
    "    datas.append(f)\n",
    "df_vals = pd.DataFrame(data = datas, \n",
    "                       index = ['P' ,\n",
    "                               'I12', 'I34', 'I56',\n",
    "                               'I',\n",
    "                               'Z',\n",
    "                               'Fp'], \n",
    "                       columns = ['Módulo','fase'])\n",
    "display(df_vals)"
   ]
  },
  {
   "cell_type": "markdown",
   "id": "51615d80",
   "metadata": {},
   "source": [
    "# 5° Caso "
   ]
  },
  {
   "cell_type": "code",
   "execution_count": 34,
   "id": "cdff82cb",
   "metadata": {},
   "outputs": [],
   "source": [
    "Xl = jXl/(1j)\n",
    "P = (V**2)/R\n",
    "I12=V/R\n",
    "I34=V/jXl\n",
    "\n",
    "I = I12+I34\n",
    "\n",
    "Z=complex(R,Xl)\n",
    "Fp = m.cos(cm.phase(Z))"
   ]
  },
  {
   "cell_type": "code",
   "execution_count": 35,
   "id": "ee087af2",
   "metadata": {},
   "outputs": [
    {
     "data": {
      "text/html": [
       "<div>\n",
       "<style scoped>\n",
       "    .dataframe tbody tr th:only-of-type {\n",
       "        vertical-align: middle;\n",
       "    }\n",
       "\n",
       "    .dataframe tbody tr th {\n",
       "        vertical-align: top;\n",
       "    }\n",
       "\n",
       "    .dataframe thead th {\n",
       "        text-align: right;\n",
       "    }\n",
       "</style>\n",
       "<table border=\"1\" class=\"dataframe\">\n",
       "  <thead>\n",
       "    <tr style=\"text-align: right;\">\n",
       "      <th></th>\n",
       "      <th>Módulo</th>\n",
       "      <th>fase</th>\n",
       "    </tr>\n",
       "  </thead>\n",
       "  <tbody>\n",
       "    <tr>\n",
       "      <th>P</th>\n",
       "      <td>210.764226</td>\n",
       "      <td>0.000000</td>\n",
       "    </tr>\n",
       "    <tr>\n",
       "      <th>I12</th>\n",
       "      <td>0.957062</td>\n",
       "      <td>0.000000</td>\n",
       "    </tr>\n",
       "    <tr>\n",
       "      <th>I34</th>\n",
       "      <td>2.539790</td>\n",
       "      <td>-90.000000</td>\n",
       "    </tr>\n",
       "    <tr>\n",
       "      <th>I</th>\n",
       "      <td>2.714130</td>\n",
       "      <td>-69.352222</td>\n",
       "    </tr>\n",
       "    <tr>\n",
       "      <th>Z</th>\n",
       "      <td>245.894855</td>\n",
       "      <td>20.647778</td>\n",
       "    </tr>\n",
       "    <tr>\n",
       "      <th>Fp</th>\n",
       "      <td>0.935766</td>\n",
       "      <td>0.000000</td>\n",
       "    </tr>\n",
       "  </tbody>\n",
       "</table>\n",
       "</div>"
      ],
      "text/plain": [
       "         Módulo       fase\n",
       "P    210.764226   0.000000\n",
       "I12    0.957062   0.000000\n",
       "I34    2.539790 -90.000000\n",
       "I      2.714130 -69.352222\n",
       "Z    245.894855  20.647778\n",
       "Fp     0.935766   0.000000"
      ]
     },
     "metadata": {},
     "output_type": "display_data"
    }
   ],
   "source": [
    "vals = [P ,\n",
    "        I12, I34, \n",
    "        I,\n",
    "        Z,\n",
    "        Fp]\n",
    "datas = []\n",
    "for i in vals:\n",
    "    f = [abs(i),(cm.phase(i))*180/(m.pi)]\n",
    "    datas.append(f)\n",
    "df_vals = pd.DataFrame(data = datas, \n",
    "                       index = ['P' ,\n",
    "                                'I12', 'I34',\n",
    "                                'I',\n",
    "                                'Z',\n",
    "                                'Fp'], \n",
    "                       columns = ['Módulo','fase'])\n",
    "display(df_vals)"
   ]
  }
 ],
 "metadata": {
  "kernelspec": {
   "display_name": "Python 3 (ipykernel)",
   "language": "python",
   "name": "python3"
  },
  "language_info": {
   "codemirror_mode": {
    "name": "ipython",
    "version": 3
   },
   "file_extension": ".py",
   "mimetype": "text/x-python",
   "name": "python",
   "nbconvert_exporter": "python",
   "pygments_lexer": "ipython3",
   "version": "3.7.10"
  }
 },
 "nbformat": 4,
 "nbformat_minor": 5
}
