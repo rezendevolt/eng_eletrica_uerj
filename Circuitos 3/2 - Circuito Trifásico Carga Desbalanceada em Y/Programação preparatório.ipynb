{
 "cells": [
  {
   "cell_type": "markdown",
   "id": "7c2234e1",
   "metadata": {},
   "source": [
    "# Preparatorio\n",
    "## Experiencia 2 - Circuito Trifásico: Carga Desequilibrada em Y\n",
    "Aluno: \n",
    "\n",
    "    Victor Hugo de Avelar Rezende\n",
    "\n",
    "Professor: \n",
    "\n",
    "    Sergio Leon Escalante"
   ]
  },
  {
   "cell_type": "markdown",
   "id": "1d74ecfe",
   "metadata": {},
   "source": [
    "## Bibliotecas"
   ]
  },
  {
   "cell_type": "code",
   "execution_count": 24,
   "id": "e6ea1a04",
   "metadata": {},
   "outputs": [],
   "source": [
    "import math as m\n",
    "import cmath as cm\n",
    "import pandas as pd\n"
   ]
  },
  {
   "cell_type": "markdown",
   "id": "c99506b3",
   "metadata": {},
   "source": [
    "## Equilibrado"
   ]
  },
  {
   "cell_type": "markdown",
   "id": "3b8c34dc",
   "metadata": {},
   "source": [
    "### Préambulo"
   ]
  },
  {
   "cell_type": "markdown",
   "id": "da14f3c4",
   "metadata": {},
   "source": [
    "#### Resistencias"
   ]
  },
  {
   "cell_type": "code",
   "execution_count": 25,
   "id": "8ed2b1f6",
   "metadata": {},
   "outputs": [],
   "source": [
    "Ra = Rb = Rc = 230"
   ]
  },
  {
   "cell_type": "markdown",
   "id": "50b942cc",
   "metadata": {},
   "source": [
    "#### Tensão de fase"
   ]
  },
  {
   "cell_type": "code",
   "execution_count": 26,
   "id": "1f041333",
   "metadata": {},
   "outputs": [],
   "source": [
    "Van = 127*complex(m.cos(0),m.sin(0))\n",
    "Vbn = 127*complex(m.cos(-(m.pi*120)/180),m.sin(-(m.pi*120)/180))\n",
    "Vcn = 127*complex(m.cos((m.pi*120)/180),m.sin((m.pi*120)/180))"
   ]
  },
  {
   "cell_type": "markdown",
   "id": "3d1374ba",
   "metadata": {},
   "source": [
    "#### Tensão de linha"
   ]
  },
  {
   "cell_type": "code",
   "execution_count": 27,
   "id": "04210acb",
   "metadata": {},
   "outputs": [],
   "source": [
    "Vab = Van - Vbn\n",
    "Vac = Vcn - Van  \n",
    "Vbc = Vbn - Vcn"
   ]
  },
  {
   "cell_type": "markdown",
   "id": "ced66396",
   "metadata": {},
   "source": [
    "#### Corrente de fase"
   ]
  },
  {
   "cell_type": "code",
   "execution_count": 28,
   "id": "d5429e15",
   "metadata": {},
   "outputs": [],
   "source": [
    "Ian = Van/Ra\n",
    "Ibn = Vbn/Rb\n",
    "Icn = Vcn/Rc"
   ]
  },
  {
   "cell_type": "markdown",
   "id": "34c215c0",
   "metadata": {},
   "source": [
    "#### Corrente no Neutro"
   ]
  },
  {
   "cell_type": "code",
   "execution_count": 29,
   "id": "4963d0e8",
   "metadata": {},
   "outputs": [],
   "source": [
    "In = Ian + Ibn + Icn"
   ]
  },
  {
   "cell_type": "markdown",
   "id": "8bc0675c",
   "metadata": {},
   "source": [
    "#### Corrente de carga"
   ]
  },
  {
   "cell_type": "code",
   "execution_count": 30,
   "id": "ec25660a",
   "metadata": {},
   "outputs": [],
   "source": [
    "Ia = Ian\n",
    "Ib = Ibn\n",
    "Ic = Icn"
   ]
  },
  {
   "cell_type": "markdown",
   "id": "529adfa5",
   "metadata": {},
   "source": [
    "#### Tensão no Neutro"
   ]
  },
  {
   "cell_type": "code",
   "execution_count": 31,
   "id": "363e8aa8",
   "metadata": {},
   "outputs": [],
   "source": [
    "Vn = Van + Vbn + Vcn\n",
    "VN = Ia*Ra + Ib*Rb + Ic*Rc\n",
    "VNn = VN - Vn"
   ]
  },
  {
   "cell_type": "markdown",
   "id": "5fe797ff",
   "metadata": {},
   "source": [
    "#### Dataframe"
   ]
  },
  {
   "cell_type": "markdown",
   "id": "51dafc2d",
   "metadata": {},
   "source": [
    "##### Contrução do Dataframe"
   ]
  },
  {
   "cell_type": "code",
   "execution_count": 32,
   "id": "562197aa",
   "metadata": {},
   "outputs": [],
   "source": [
    "vals = [Van, Vbn ,Vcn,\n",
    "        Vab, Vac, Vbc,\n",
    "        Ian, Ibn, Icn, \n",
    "        Ia,  Ib,  Ic, \n",
    "        In,\n",
    "        Vn,  VN,  VNn]\n",
    "datas = []\n",
    "for i in vals:\n",
    "    f = [abs(i),(cm.phase(i))*180/(m.pi)]\n",
    "    datas.append(f)\n",
    "df_vals = pd.DataFrame(data = datas, \n",
    "                       index = ['Van', 'Vbn', 'Vcn',\n",
    "                                'Vab', 'Vac', 'Vbc',\n",
    "                                'Ian', 'Ibn', 'Icn',\n",
    "                                'Ia',  'Ib',  'Ic',\n",
    "                                'In',\n",
    "                                'Vn',  'VN',  'VNn'], \n",
    "                       columns = ['Módulo','fase'])"
   ]
  },
  {
   "cell_type": "markdown",
   "id": "8aa74868",
   "metadata": {},
   "source": [
    "#### Vizualização dos dados"
   ]
  },
  {
   "cell_type": "code",
   "execution_count": 33,
   "id": "a42b3536",
   "metadata": {},
   "outputs": [
    {
     "data": {
      "text/html": [
       "<div>\n",
       "<style scoped>\n",
       "    .dataframe tbody tr th:only-of-type {\n",
       "        vertical-align: middle;\n",
       "    }\n",
       "\n",
       "    .dataframe tbody tr th {\n",
       "        vertical-align: top;\n",
       "    }\n",
       "\n",
       "    .dataframe thead th {\n",
       "        text-align: right;\n",
       "    }\n",
       "</style>\n",
       "<table border=\"1\" class=\"dataframe\">\n",
       "  <thead>\n",
       "    <tr style=\"text-align: right;\">\n",
       "      <th></th>\n",
       "      <th>Módulo</th>\n",
       "      <th>fase</th>\n",
       "    </tr>\n",
       "  </thead>\n",
       "  <tbody>\n",
       "    <tr>\n",
       "      <th>Van</th>\n",
       "      <td>1.270000e+02</td>\n",
       "      <td>0.0</td>\n",
       "    </tr>\n",
       "    <tr>\n",
       "      <th>Vbn</th>\n",
       "      <td>1.270000e+02</td>\n",
       "      <td>-120.0</td>\n",
       "    </tr>\n",
       "    <tr>\n",
       "      <th>Vcn</th>\n",
       "      <td>1.270000e+02</td>\n",
       "      <td>120.0</td>\n",
       "    </tr>\n",
       "    <tr>\n",
       "      <th>Vab</th>\n",
       "      <td>2.199705e+02</td>\n",
       "      <td>30.0</td>\n",
       "    </tr>\n",
       "    <tr>\n",
       "      <th>Vac</th>\n",
       "      <td>2.199705e+02</td>\n",
       "      <td>150.0</td>\n",
       "    </tr>\n",
       "    <tr>\n",
       "      <th>Vbc</th>\n",
       "      <td>2.199705e+02</td>\n",
       "      <td>-90.0</td>\n",
       "    </tr>\n",
       "    <tr>\n",
       "      <th>Ian</th>\n",
       "      <td>5.521739e-01</td>\n",
       "      <td>0.0</td>\n",
       "    </tr>\n",
       "    <tr>\n",
       "      <th>Ibn</th>\n",
       "      <td>5.521739e-01</td>\n",
       "      <td>-120.0</td>\n",
       "    </tr>\n",
       "    <tr>\n",
       "      <th>Icn</th>\n",
       "      <td>5.521739e-01</td>\n",
       "      <td>120.0</td>\n",
       "    </tr>\n",
       "    <tr>\n",
       "      <th>Ia</th>\n",
       "      <td>5.521739e-01</td>\n",
       "      <td>0.0</td>\n",
       "    </tr>\n",
       "    <tr>\n",
       "      <th>Ib</th>\n",
       "      <td>5.521739e-01</td>\n",
       "      <td>-120.0</td>\n",
       "    </tr>\n",
       "    <tr>\n",
       "      <th>Ic</th>\n",
       "      <td>5.521739e-01</td>\n",
       "      <td>120.0</td>\n",
       "    </tr>\n",
       "    <tr>\n",
       "      <th>In</th>\n",
       "      <td>3.330669e-16</td>\n",
       "      <td>0.0</td>\n",
       "    </tr>\n",
       "    <tr>\n",
       "      <th>Vn</th>\n",
       "      <td>5.684342e-14</td>\n",
       "      <td>0.0</td>\n",
       "    </tr>\n",
       "    <tr>\n",
       "      <th>VN</th>\n",
       "      <td>8.526513e-14</td>\n",
       "      <td>0.0</td>\n",
       "    </tr>\n",
       "    <tr>\n",
       "      <th>VNn</th>\n",
       "      <td>2.842171e-14</td>\n",
       "      <td>0.0</td>\n",
       "    </tr>\n",
       "  </tbody>\n",
       "</table>\n",
       "</div>"
      ],
      "text/plain": [
       "           Módulo   fase\n",
       "Van  1.270000e+02    0.0\n",
       "Vbn  1.270000e+02 -120.0\n",
       "Vcn  1.270000e+02  120.0\n",
       "Vab  2.199705e+02   30.0\n",
       "Vac  2.199705e+02  150.0\n",
       "Vbc  2.199705e+02  -90.0\n",
       "Ian  5.521739e-01    0.0\n",
       "Ibn  5.521739e-01 -120.0\n",
       "Icn  5.521739e-01  120.0\n",
       "Ia   5.521739e-01    0.0\n",
       "Ib   5.521739e-01 -120.0\n",
       "Ic   5.521739e-01  120.0\n",
       "In   3.330669e-16    0.0\n",
       "Vn   5.684342e-14    0.0\n",
       "VN   8.526513e-14    0.0\n",
       "VNn  2.842171e-14    0.0"
      ]
     },
     "metadata": {},
     "output_type": "display_data"
    }
   ],
   "source": [
    "display(df_vals)"
   ]
  },
  {
   "cell_type": "markdown",
   "id": "7d6ac322",
   "metadata": {},
   "source": [
    "## Desequilibrado\n",
    "Alterando apenas as cargas A e B para que se obtenha os valores de corrente de 1A e 1.5A em cada carga respectivamente"
   ]
  },
  {
   "cell_type": "markdown",
   "id": "2e8e7916",
   "metadata": {},
   "source": [
    "### Préambulo"
   ]
  },
  {
   "cell_type": "markdown",
   "id": "fa6ab441",
   "metadata": {},
   "source": [
    "#### Corrente de fase"
   ]
  },
  {
   "cell_type": "code",
   "execution_count": 34,
   "id": "c7a7f038",
   "metadata": {},
   "outputs": [],
   "source": [
    "Ian = 1*complex(m.cos(0),m.sin(0))\n",
    "Ibn = 1.5*complex(m.cos(-(m.pi*120)/180),m.sin(-(m.pi*120)/180))"
   ]
  },
  {
   "cell_type": "markdown",
   "id": "63626db0",
   "metadata": {},
   "source": [
    "#### Corrente no Neutro"
   ]
  },
  {
   "cell_type": "code",
   "execution_count": 35,
   "id": "287f5719",
   "metadata": {},
   "outputs": [],
   "source": [
    "In = Ian + Ibn + Icn"
   ]
  },
  {
   "cell_type": "markdown",
   "id": "a99f96db",
   "metadata": {},
   "source": [
    "#### Corrente de carga"
   ]
  },
  {
   "cell_type": "code",
   "execution_count": 36,
   "id": "15285bf8",
   "metadata": {},
   "outputs": [],
   "source": [
    "Ia = Ian\n",
    "Ib = Ibn\n",
    "Ic = Icn"
   ]
  },
  {
   "cell_type": "markdown",
   "id": "ea978e59",
   "metadata": {},
   "source": [
    "#### Resistencias"
   ]
  },
  {
   "cell_type": "code",
   "execution_count": 37,
   "id": "5736880f",
   "metadata": {},
   "outputs": [],
   "source": [
    "Ra = Van/Ia\n",
    "Rb = Vbn/Ib"
   ]
  },
  {
   "cell_type": "markdown",
   "id": "701481f7",
   "metadata": {},
   "source": [
    "#### Tensão no Neutro"
   ]
  },
  {
   "cell_type": "code",
   "execution_count": 38,
   "id": "9ed3f633",
   "metadata": {},
   "outputs": [],
   "source": [
    "VNn = 0"
   ]
  },
  {
   "cell_type": "markdown",
   "id": "f1ba8510",
   "metadata": {},
   "source": [
    "#### Dataframe"
   ]
  },
  {
   "cell_type": "markdown",
   "id": "ccb5d5a4",
   "metadata": {},
   "source": [
    "##### Contrução do Dataframe"
   ]
  },
  {
   "cell_type": "code",
   "execution_count": 39,
   "id": "0d826718",
   "metadata": {},
   "outputs": [],
   "source": [
    "vals = [Van, Vbn ,Vcn,\n",
    "        Vab, Vac, Vbc,\n",
    "        Ian, Ibn, Icn, \n",
    "        Ia,  Ib,  Ic, \n",
    "        In,\n",
    "        Ra,  Rb,  Rc,\n",
    "        VNn]\n",
    "datas = []\n",
    "for i in vals:\n",
    "    f = [abs(i),(cm.phase(i))*180/(m.pi)]\n",
    "    datas.append(f)\n",
    "df_vals = pd.DataFrame(data = datas, \n",
    "                       index = ['Van', 'Vbn', 'Vcn',\n",
    "                                'Vab', 'Vac', 'Vbc',\n",
    "                                'Ian', 'Ibn', 'Icn',\n",
    "                                'Ia',  'Ib',  'Ic',\n",
    "                                'In',\n",
    "                                'Ra',  'Rb',  'Rc',\n",
    "                                'VNn'], \n",
    "                       columns = ['Módulo','fase'])"
   ]
  },
  {
   "cell_type": "markdown",
   "id": "5d85a03f",
   "metadata": {},
   "source": [
    "#### Vizualização dos dados"
   ]
  },
  {
   "cell_type": "code",
   "execution_count": 40,
   "id": "620a1fa7",
   "metadata": {},
   "outputs": [
    {
     "data": {
      "text/html": [
       "<div>\n",
       "<style scoped>\n",
       "    .dataframe tbody tr th:only-of-type {\n",
       "        vertical-align: middle;\n",
       "    }\n",
       "\n",
       "    .dataframe tbody tr th {\n",
       "        vertical-align: top;\n",
       "    }\n",
       "\n",
       "    .dataframe thead th {\n",
       "        text-align: right;\n",
       "    }\n",
       "</style>\n",
       "<table border=\"1\" class=\"dataframe\">\n",
       "  <thead>\n",
       "    <tr style=\"text-align: right;\">\n",
       "      <th></th>\n",
       "      <th>Módulo</th>\n",
       "      <th>fase</th>\n",
       "    </tr>\n",
       "  </thead>\n",
       "  <tbody>\n",
       "    <tr>\n",
       "      <th>Van</th>\n",
       "      <td>127.000000</td>\n",
       "      <td>0.000000e+00</td>\n",
       "    </tr>\n",
       "    <tr>\n",
       "      <th>Vbn</th>\n",
       "      <td>127.000000</td>\n",
       "      <td>-1.200000e+02</td>\n",
       "    </tr>\n",
       "    <tr>\n",
       "      <th>Vcn</th>\n",
       "      <td>127.000000</td>\n",
       "      <td>1.200000e+02</td>\n",
       "    </tr>\n",
       "    <tr>\n",
       "      <th>Vab</th>\n",
       "      <td>219.970453</td>\n",
       "      <td>3.000000e+01</td>\n",
       "    </tr>\n",
       "    <tr>\n",
       "      <th>Vac</th>\n",
       "      <td>219.970453</td>\n",
       "      <td>1.500000e+02</td>\n",
       "    </tr>\n",
       "    <tr>\n",
       "      <th>Vbc</th>\n",
       "      <td>219.970453</td>\n",
       "      <td>-9.000000e+01</td>\n",
       "    </tr>\n",
       "    <tr>\n",
       "      <th>Ian</th>\n",
       "      <td>1.000000</td>\n",
       "      <td>0.000000e+00</td>\n",
       "    </tr>\n",
       "    <tr>\n",
       "      <th>Ibn</th>\n",
       "      <td>1.500000</td>\n",
       "      <td>-1.200000e+02</td>\n",
       "    </tr>\n",
       "    <tr>\n",
       "      <th>Icn</th>\n",
       "      <td>0.552174</td>\n",
       "      <td>1.200000e+02</td>\n",
       "    </tr>\n",
       "    <tr>\n",
       "      <th>Ia</th>\n",
       "      <td>1.000000</td>\n",
       "      <td>0.000000e+00</td>\n",
       "    </tr>\n",
       "    <tr>\n",
       "      <th>Ib</th>\n",
       "      <td>1.500000</td>\n",
       "      <td>-1.200000e+02</td>\n",
       "    </tr>\n",
       "    <tr>\n",
       "      <th>Ic</th>\n",
       "      <td>0.552174</td>\n",
       "      <td>1.200000e+02</td>\n",
       "    </tr>\n",
       "    <tr>\n",
       "      <th>In</th>\n",
       "      <td>0.821256</td>\n",
       "      <td>-9.182029e+01</td>\n",
       "    </tr>\n",
       "    <tr>\n",
       "      <th>Ra</th>\n",
       "      <td>127.000000</td>\n",
       "      <td>0.000000e+00</td>\n",
       "    </tr>\n",
       "    <tr>\n",
       "      <th>Rb</th>\n",
       "      <td>84.666667</td>\n",
       "      <td>2.776130e-15</td>\n",
       "    </tr>\n",
       "    <tr>\n",
       "      <th>Rc</th>\n",
       "      <td>230.000000</td>\n",
       "      <td>0.000000e+00</td>\n",
       "    </tr>\n",
       "    <tr>\n",
       "      <th>VNn</th>\n",
       "      <td>0.000000</td>\n",
       "      <td>0.000000e+00</td>\n",
       "    </tr>\n",
       "  </tbody>\n",
       "</table>\n",
       "</div>"
      ],
      "text/plain": [
       "         Módulo          fase\n",
       "Van  127.000000  0.000000e+00\n",
       "Vbn  127.000000 -1.200000e+02\n",
       "Vcn  127.000000  1.200000e+02\n",
       "Vab  219.970453  3.000000e+01\n",
       "Vac  219.970453  1.500000e+02\n",
       "Vbc  219.970453 -9.000000e+01\n",
       "Ian    1.000000  0.000000e+00\n",
       "Ibn    1.500000 -1.200000e+02\n",
       "Icn    0.552174  1.200000e+02\n",
       "Ia     1.000000  0.000000e+00\n",
       "Ib     1.500000 -1.200000e+02\n",
       "Ic     0.552174  1.200000e+02\n",
       "In     0.821256 -9.182029e+01\n",
       "Ra   127.000000  0.000000e+00\n",
       "Rb    84.666667  2.776130e-15\n",
       "Rc   230.000000  0.000000e+00\n",
       "VNn    0.000000  0.000000e+00"
      ]
     },
     "metadata": {},
     "output_type": "display_data"
    }
   ],
   "source": [
    "display(df_vals)"
   ]
  }
 ],
 "metadata": {
  "kernelspec": {
   "display_name": "Python 3 (ipykernel)",
   "language": "python",
   "name": "python3"
  },
  "language_info": {
   "codemirror_mode": {
    "name": "ipython",
    "version": 3
   },
   "file_extension": ".py",
   "mimetype": "text/x-python",
   "name": "python",
   "nbconvert_exporter": "python",
   "pygments_lexer": "ipython3",
   "version": "3.7.10"
  }
 },
 "nbformat": 4,
 "nbformat_minor": 5
}
