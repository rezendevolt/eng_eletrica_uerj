{
 "cells": [
  {
   "cell_type": "markdown",
   "id": "7c2234e1",
   "metadata": {},
   "source": [
    "# Experimento 3\n",
    "## Circuito Trifásico: Carga Equilibrada e Desiquilibrada em Delta\n",
    "Aluno: \n",
    "    \n",
    "    Victor Hugo de Avelar Rezende\n",
    "\n",
    "Professor: \n",
    "\n",
    "    Sergio Leon Escalante"
   ]
  },
  {
   "cell_type": "markdown",
   "id": "1d74ecfe",
   "metadata": {},
   "source": [
    "# Bibliotecas"
   ]
  },
  {
   "cell_type": "code",
   "execution_count": 108,
   "id": "e6ea1a04",
   "metadata": {},
   "outputs": [],
   "source": [
    "import math as m\n",
    "import cmath as cm\n",
    "import pandas as pd\n",
    "import numpy as np"
   ]
  },
  {
   "cell_type": "markdown",
   "id": "c99506b3",
   "metadata": {},
   "source": [
    "# Ligação Delta"
   ]
  },
  {
   "cell_type": "markdown",
   "id": "3b8c34dc",
   "metadata": {},
   "source": [
    "## Préambulo"
   ]
  },
  {
   "cell_type": "markdown",
   "id": "50b942cc",
   "metadata": {},
   "source": [
    "### Tensão de fase"
   ]
  },
  {
   "cell_type": "code",
   "execution_count": 109,
   "id": "1f041333",
   "metadata": {},
   "outputs": [],
   "source": [
    "Van = 127*complex(m.cos(0),m.sin(0))\n",
    "Vbn = 127*complex(m.cos(np.radians(-120)),m.sin(np.radians(-120)))\n",
    "Vcn = 127*complex(m.cos(np.radians(120)),m.sin(np.radians(120)))"
   ]
  },
  {
   "cell_type": "markdown",
   "id": "3d1374ba",
   "metadata": {},
   "source": [
    "### Tensão de linha"
   ]
  },
  {
   "cell_type": "code",
   "execution_count": 110,
   "id": "04210acb",
   "metadata": {},
   "outputs": [],
   "source": [
    "Vab = Van - Vbn\n",
    "Vac = Vcn - Van  \n",
    "Vbc = Vbn - Vcn"
   ]
  },
  {
   "cell_type": "markdown",
   "id": "230cea38",
   "metadata": {},
   "source": [
    "### Vizualização dos valores"
   ]
  },
  {
   "cell_type": "code",
   "execution_count": 111,
   "id": "bb343152",
   "metadata": {},
   "outputs": [
    {
     "data": {
      "text/html": [
       "<div>\n",
       "<style scoped>\n",
       "    .dataframe tbody tr th:only-of-type {\n",
       "        vertical-align: middle;\n",
       "    }\n",
       "\n",
       "    .dataframe tbody tr th {\n",
       "        vertical-align: top;\n",
       "    }\n",
       "\n",
       "    .dataframe thead th {\n",
       "        text-align: right;\n",
       "    }\n",
       "</style>\n",
       "<table border=\"1\" class=\"dataframe\">\n",
       "  <thead>\n",
       "    <tr style=\"text-align: right;\">\n",
       "      <th></th>\n",
       "      <th>Módulo</th>\n",
       "      <th>fase</th>\n",
       "    </tr>\n",
       "  </thead>\n",
       "  <tbody>\n",
       "    <tr>\n",
       "      <th>Van</th>\n",
       "      <td>127.000000</td>\n",
       "      <td>0.0</td>\n",
       "    </tr>\n",
       "    <tr>\n",
       "      <th>Vbn</th>\n",
       "      <td>127.000000</td>\n",
       "      <td>-120.0</td>\n",
       "    </tr>\n",
       "    <tr>\n",
       "      <th>Vcn</th>\n",
       "      <td>127.000000</td>\n",
       "      <td>120.0</td>\n",
       "    </tr>\n",
       "    <tr>\n",
       "      <th>Vab</th>\n",
       "      <td>219.970453</td>\n",
       "      <td>30.0</td>\n",
       "    </tr>\n",
       "    <tr>\n",
       "      <th>Vac</th>\n",
       "      <td>219.970453</td>\n",
       "      <td>150.0</td>\n",
       "    </tr>\n",
       "    <tr>\n",
       "      <th>Vbc</th>\n",
       "      <td>219.970453</td>\n",
       "      <td>-90.0</td>\n",
       "    </tr>\n",
       "  </tbody>\n",
       "</table>\n",
       "</div>"
      ],
      "text/plain": [
       "         Módulo   fase\n",
       "Van  127.000000    0.0\n",
       "Vbn  127.000000 -120.0\n",
       "Vcn  127.000000  120.0\n",
       "Vab  219.970453   30.0\n",
       "Vac  219.970453  150.0\n",
       "Vbc  219.970453  -90.0"
      ]
     },
     "metadata": {},
     "output_type": "display_data"
    }
   ],
   "source": [
    "vals = [Van, Vbn ,Vcn,\n",
    "        Vab, Vac, Vbc]\n",
    "datas = []\n",
    "for i in vals:\n",
    "    f = [abs(i),(cm.phase(i))*180/(m.pi)]\n",
    "    datas.append(f)\n",
    "df_vals = pd.DataFrame(data = datas, \n",
    "                       index = ['Van', 'Vbn', 'Vcn',\n",
    "                                'Vab', 'Vac', 'Vbc'], \n",
    "                       columns = ['Módulo','fase'])\n",
    "display(df_vals)"
   ]
  },
  {
   "cell_type": "markdown",
   "id": "52319fe9",
   "metadata": {},
   "source": [
    "## Equilibrado"
   ]
  },
  {
   "cell_type": "markdown",
   "id": "da14f3c4",
   "metadata": {},
   "source": [
    "### Resistencias"
   ]
  },
  {
   "cell_type": "code",
   "execution_count": 112,
   "id": "8ed2b1f6",
   "metadata": {},
   "outputs": [],
   "source": [
    "Ra = Rb = Rc = 230"
   ]
  },
  {
   "cell_type": "markdown",
   "id": "eef6daf2",
   "metadata": {},
   "source": [
    "## Convertendo a carga em Estrela"
   ]
  },
  {
   "cell_type": "code",
   "execution_count": 113,
   "id": "167bd050",
   "metadata": {},
   "outputs": [],
   "source": [
    "Rya = (Ra*Rc)/(Ra+Rb+Rc)\n",
    "Ryb = (Rb*Ra)/(Ra+Rb+Rc)\n",
    "Ryc = (Rc*Rb)/(Ra+Rb+Rc)"
   ]
  },
  {
   "cell_type": "markdown",
   "id": "695e1114",
   "metadata": {},
   "source": [
    "### Malhas\n",
    "Resolvendo sistemas com as malhas \\\n",
    "\\\n",
    "Malha 1:\n",
    "    \n",
    "    Van - Rya*I1 - Ryb*I1 + Ryb*I2 - Vbn = 0\n",
    "    \n",
    "Malha 2:\n",
    "    \n",
    "    Vbn - Ryb*I2 + Ryb*I1 - Ryc*I2 - Vcn = 0"
   ]
  },
  {
   "cell_type": "code",
   "execution_count": 114,
   "id": "6cf5d3ec",
   "metadata": {},
   "outputs": [],
   "source": [
    "M1 = np.array([[(Rya+Ryb),-Ryb],\n",
    "              [-Ryb,(Ryb+Ryc)]])\n",
    "M2 = np.array([[(Van-Vbn)],\n",
    "              [(Vbn-Vcn)]])\n",
    "I = np.linalg.solve(M1,M2)\n",
    "\n",
    "I1 = I[0]\n",
    "I2 = I[1]"
   ]
  },
  {
   "cell_type": "markdown",
   "id": "ced66396",
   "metadata": {},
   "source": [
    "### Corrente de fase"
   ]
  },
  {
   "cell_type": "code",
   "execution_count": 115,
   "id": "d5429e15",
   "metadata": {},
   "outputs": [],
   "source": [
    "Ian = I1\n",
    "Ibn = I2 - I1\n",
    "Icn = -I2"
   ]
  },
  {
   "cell_type": "markdown",
   "id": "03fed36d",
   "metadata": {},
   "source": [
    "### Corrente na carga"
   ]
  },
  {
   "cell_type": "code",
   "execution_count": 116,
   "id": "8364545a",
   "metadata": {},
   "outputs": [],
   "source": [
    "Iab =Ian/np.sqrt(3)*complex(m.cos(np.radians(30)),m.sin(np.radians(30)))\n",
    "Ibc =Ibn/np.sqrt(3)*complex(m.cos(np.radians(30)),m.sin(np.radians(30)))\n",
    "Ica =Icn/np.sqrt(3)*complex(m.cos(np.radians(30)),m.sin(np.radians(30)))\n"
   ]
  },
  {
   "cell_type": "markdown",
   "id": "e01a4ad6",
   "metadata": {},
   "source": [
    "### Vizualização dos valores"
   ]
  },
  {
   "cell_type": "code",
   "execution_count": 117,
   "id": "91fd232b",
   "metadata": {},
   "outputs": [
    {
     "data": {
      "text/html": [
       "<div>\n",
       "<style scoped>\n",
       "    .dataframe tbody tr th:only-of-type {\n",
       "        vertical-align: middle;\n",
       "    }\n",
       "\n",
       "    .dataframe tbody tr th {\n",
       "        vertical-align: top;\n",
       "    }\n",
       "\n",
       "    .dataframe thead th {\n",
       "        text-align: right;\n",
       "    }\n",
       "</style>\n",
       "<table border=\"1\" class=\"dataframe\">\n",
       "  <thead>\n",
       "    <tr style=\"text-align: right;\">\n",
       "      <th></th>\n",
       "      <th>Módulo</th>\n",
       "      <th>fase</th>\n",
       "    </tr>\n",
       "  </thead>\n",
       "  <tbody>\n",
       "    <tr>\n",
       "      <th>Ian</th>\n",
       "      <td>[1.6565217391304343]</td>\n",
       "      <td>-6.411197e-15</td>\n",
       "    </tr>\n",
       "    <tr>\n",
       "      <th>Ibn</th>\n",
       "      <td>[1.656521739130435]</td>\n",
       "      <td>-1.200000e+02</td>\n",
       "    </tr>\n",
       "    <tr>\n",
       "      <th>Icn</th>\n",
       "      <td>[1.656521739130435]</td>\n",
       "      <td>1.200000e+02</td>\n",
       "    </tr>\n",
       "    <tr>\n",
       "      <th>Iab</th>\n",
       "      <td>[0.9563932720054235]</td>\n",
       "      <td>3.000000e+01</td>\n",
       "    </tr>\n",
       "    <tr>\n",
       "      <th>Ibc</th>\n",
       "      <td>[0.9563932720054238]</td>\n",
       "      <td>-9.000000e+01</td>\n",
       "    </tr>\n",
       "    <tr>\n",
       "      <th>Ica</th>\n",
       "      <td>[0.9563932720054238]</td>\n",
       "      <td>1.500000e+02</td>\n",
       "    </tr>\n",
       "  </tbody>\n",
       "</table>\n",
       "</div>"
      ],
      "text/plain": [
       "                   Módulo          fase\n",
       "Ian  [1.6565217391304343] -6.411197e-15\n",
       "Ibn   [1.656521739130435] -1.200000e+02\n",
       "Icn   [1.656521739130435]  1.200000e+02\n",
       "Iab  [0.9563932720054235]  3.000000e+01\n",
       "Ibc  [0.9563932720054238] -9.000000e+01\n",
       "Ica  [0.9563932720054238]  1.500000e+02"
      ]
     },
     "metadata": {},
     "output_type": "display_data"
    }
   ],
   "source": [
    "vals = [Ian, Ibn, Icn, \n",
    "        Iab,  Ibc,  Ica]\n",
    "datas = []\n",
    "for i in vals:\n",
    "    f = [abs(i),(cm.phase(i))*180/(m.pi)]\n",
    "    datas.append(f)\n",
    "df_vals = pd.DataFrame(data = datas, \n",
    "                       index = ['Ian', 'Ibn', 'Icn',\n",
    "                                'Iab', 'Ibc', 'Ica'], \n",
    "                       columns = ['Módulo','fase'])\n",
    "display(df_vals)"
   ]
  },
  {
   "cell_type": "markdown",
   "id": "3bfe6b5f",
   "metadata": {},
   "source": [
    "## Desequilibrado"
   ]
  },
  {
   "cell_type": "markdown",
   "id": "fa6ab441",
   "metadata": {},
   "source": [
    "### Corrente de carga"
   ]
  },
  {
   "cell_type": "code",
   "execution_count": 136,
   "id": "c7a7f038",
   "metadata": {},
   "outputs": [],
   "source": [
    "Iab = 1.2*complex(m.cos(np.radians(30)),m.sin(np.radians(30)))\n",
    "Ibc = 1.5*complex(m.cos(np.radians(-90)),m.sin(np.radians(-90)))\n"
   ]
  },
  {
   "cell_type": "markdown",
   "id": "3558b5f3",
   "metadata": {},
   "source": [
    "### Vizualização dos valores"
   ]
  },
  {
   "cell_type": "code",
   "execution_count": 137,
   "id": "b2fc71f7",
   "metadata": {},
   "outputs": [
    {
     "data": {
      "text/html": [
       "<div>\n",
       "<style scoped>\n",
       "    .dataframe tbody tr th:only-of-type {\n",
       "        vertical-align: middle;\n",
       "    }\n",
       "\n",
       "    .dataframe tbody tr th {\n",
       "        vertical-align: top;\n",
       "    }\n",
       "\n",
       "    .dataframe thead th {\n",
       "        text-align: right;\n",
       "    }\n",
       "</style>\n",
       "<table border=\"1\" class=\"dataframe\">\n",
       "  <thead>\n",
       "    <tr style=\"text-align: right;\">\n",
       "      <th></th>\n",
       "      <th>Módulo</th>\n",
       "      <th>fase</th>\n",
       "    </tr>\n",
       "  </thead>\n",
       "  <tbody>\n",
       "    <tr>\n",
       "      <th>Iab</th>\n",
       "      <td>1.2</td>\n",
       "      <td>30.0</td>\n",
       "    </tr>\n",
       "    <tr>\n",
       "      <th>Ibc</th>\n",
       "      <td>1.5</td>\n",
       "      <td>-90.0</td>\n",
       "    </tr>\n",
       "    <tr>\n",
       "      <th>Ica</th>\n",
       "      <td>[0.9563932720054238]</td>\n",
       "      <td>150.0</td>\n",
       "    </tr>\n",
       "  </tbody>\n",
       "</table>\n",
       "</div>"
      ],
      "text/plain": [
       "                   Módulo   fase\n",
       "Iab                   1.2   30.0\n",
       "Ibc                   1.5  -90.0\n",
       "Ica  [0.9563932720054238]  150.0"
      ]
     },
     "metadata": {},
     "output_type": "display_data"
    }
   ],
   "source": [
    "vals = [Iab,  Ibc,  Ica]\n",
    "datas = []\n",
    "for i in vals:\n",
    "    f = [abs(i),(cm.phase(i))*180/(m.pi)]\n",
    "    datas.append(f)\n",
    "df_vals = pd.DataFrame(data = datas, \n",
    "                       index = ['Iab',  'Ibc',  'Ica'], \n",
    "                       columns = ['Módulo','fase'])\n",
    "display(df_vals)"
   ]
  },
  {
   "cell_type": "markdown",
   "id": "63626db0",
   "metadata": {},
   "source": [
    "### Corrente de Fase"
   ]
  },
  {
   "cell_type": "code",
   "execution_count": 138,
   "id": "287f5719",
   "metadata": {},
   "outputs": [],
   "source": [
    "Ian = Iab*np.sqrt(3)*complex(m.cos(np.radians(30)),m.sin(np.radians(30)))\n",
    "Ibn = Ibc*np.sqrt(3)*complex(m.cos(np.radians(30)),m.sin(np.radians(30)))\n"
   ]
  },
  {
   "cell_type": "markdown",
   "id": "ea978e59",
   "metadata": {},
   "source": [
    "### Resistencias"
   ]
  },
  {
   "cell_type": "code",
   "execution_count": 139,
   "id": "5736880f",
   "metadata": {},
   "outputs": [],
   "source": [
    "Ra = Vab/Iab\n",
    "Rb = Vbc/Ibc"
   ]
  },
  {
   "cell_type": "markdown",
   "id": "ccb5d5a4",
   "metadata": {},
   "source": [
    "### Vizualização dos valores"
   ]
  },
  {
   "cell_type": "code",
   "execution_count": 140,
   "id": "0d826718",
   "metadata": {},
   "outputs": [
    {
     "data": {
      "text/html": [
       "<div>\n",
       "<style scoped>\n",
       "    .dataframe tbody tr th:only-of-type {\n",
       "        vertical-align: middle;\n",
       "    }\n",
       "\n",
       "    .dataframe tbody tr th {\n",
       "        vertical-align: top;\n",
       "    }\n",
       "\n",
       "    .dataframe thead th {\n",
       "        text-align: right;\n",
       "    }\n",
       "</style>\n",
       "<table border=\"1\" class=\"dataframe\">\n",
       "  <thead>\n",
       "    <tr style=\"text-align: right;\">\n",
       "      <th></th>\n",
       "      <th>Módulo</th>\n",
       "      <th>fase</th>\n",
       "    </tr>\n",
       "  </thead>\n",
       "  <tbody>\n",
       "    <tr>\n",
       "      <th>Ian</th>\n",
       "      <td>2.078461</td>\n",
       "      <td>6.000000e+01</td>\n",
       "    </tr>\n",
       "    <tr>\n",
       "      <th>Ibn</th>\n",
       "      <td>2.598076</td>\n",
       "      <td>-6.000000e+01</td>\n",
       "    </tr>\n",
       "    <tr>\n",
       "      <th>Icn</th>\n",
       "      <td>[0.22140006108373558]</td>\n",
       "      <td>1.015651e+02</td>\n",
       "    </tr>\n",
       "    <tr>\n",
       "      <th>Ra</th>\n",
       "      <td>183.30871</td>\n",
       "      <td>1.282239e-14</td>\n",
       "    </tr>\n",
       "    <tr>\n",
       "      <th>Rb</th>\n",
       "      <td>146.646968</td>\n",
       "      <td>-3.508355e-15</td>\n",
       "    </tr>\n",
       "    <tr>\n",
       "      <th>Rc</th>\n",
       "      <td>230</td>\n",
       "      <td>0.000000e+00</td>\n",
       "    </tr>\n",
       "  </tbody>\n",
       "</table>\n",
       "</div>"
      ],
      "text/plain": [
       "                    Módulo          fase\n",
       "Ian               2.078461  6.000000e+01\n",
       "Ibn               2.598076 -6.000000e+01\n",
       "Icn  [0.22140006108373558]  1.015651e+02\n",
       "Ra               183.30871  1.282239e-14\n",
       "Rb              146.646968 -3.508355e-15\n",
       "Rc                     230  0.000000e+00"
      ]
     },
     "metadata": {},
     "output_type": "display_data"
    }
   ],
   "source": [
    "vals = [Ian,  Ibn,  Icn,\n",
    "        Ra,  Rb,  Rc,]\n",
    "datas = []\n",
    "for i in vals:\n",
    "    f = [abs(i),(cm.phase(i))*180/(m.pi)]\n",
    "    datas.append(f)\n",
    "df_vals = pd.DataFrame(data = datas, \n",
    "                       index = ['Ian', 'Ibn', 'Icn',\n",
    "                                'Ra', 'Rb', 'Rc'], \n",
    "                       columns = ['Módulo','fase'])\n",
    "display(df_vals)"
   ]
  },
  {
   "cell_type": "markdown",
   "id": "72d6c7bd",
   "metadata": {},
   "source": [
    "# Sequencia de Fases"
   ]
  },
  {
   "cell_type": "markdown",
   "id": "a5d466fc",
   "metadata": {},
   "source": [
    "## Cargas"
   ]
  },
  {
   "cell_type": "code",
   "execution_count": 123,
   "id": "cb2e4462",
   "metadata": {},
   "outputs": [],
   "source": [
    "Rya = Ryc = 230\n",
    "Ryb = complex(0,230)"
   ]
  },
  {
   "cell_type": "markdown",
   "id": "8e48e5ac",
   "metadata": {},
   "source": [
    "## Malhas\n",
    "Resolvendo sistemas com as malhas \\\n",
    "\\\n",
    "Malha 1:\n",
    "    \n",
    "    Van - Rya*I1 - Ryb*I1 + Ryb*I2 - Vbn = 0\n",
    "    \n",
    "Malha 2:\n",
    "    \n",
    "    Vbn - Ryb*I2 + Ryb*I1 - Ryc*I2 - Vcn = 0"
   ]
  },
  {
   "cell_type": "code",
   "execution_count": 124,
   "id": "231a27d7",
   "metadata": {},
   "outputs": [],
   "source": [
    "M1 = np.array([[(Rya+Ryb),-Ryb],\n",
    "              [-Ryb,(Ryb+Ryc)]])\n",
    "M2 = np.array([[(Van-Vbn)],\n",
    "              [(Vbn-Vcn)]])\n",
    "I = np.linalg.solve(M1,M2)\n",
    "\n",
    "I1 = I[0]\n",
    "I2 = I[1]"
   ]
  },
  {
   "cell_type": "markdown",
   "id": "8eb15889",
   "metadata": {},
   "source": [
    "## Corrente de Fase"
   ]
  },
  {
   "cell_type": "code",
   "execution_count": 125,
   "id": "203af849",
   "metadata": {},
   "outputs": [],
   "source": [
    "Ian = I1\n",
    "Ibn = I2 - I1\n",
    "Icn = -I2"
   ]
  },
  {
   "cell_type": "markdown",
   "id": "42d793f5",
   "metadata": {},
   "source": [
    "## Tensões de Fase"
   ]
  },
  {
   "cell_type": "code",
   "execution_count": 126,
   "id": "57c8bd0e",
   "metadata": {},
   "outputs": [],
   "source": [
    "Van = Ian*Rya\n",
    "Vbn = Ibn*Ryb\n",
    "Vcn = Icn*Ryc"
   ]
  },
  {
   "cell_type": "markdown",
   "id": "90bdde1c",
   "metadata": {},
   "source": [
    "## Visualização"
   ]
  },
  {
   "cell_type": "code",
   "execution_count": 127,
   "id": "e438a75b",
   "metadata": {},
   "outputs": [
    {
     "data": {
      "text/html": [
       "<div>\n",
       "<style scoped>\n",
       "    .dataframe tbody tr th:only-of-type {\n",
       "        vertical-align: middle;\n",
       "    }\n",
       "\n",
       "    .dataframe tbody tr th {\n",
       "        vertical-align: top;\n",
       "    }\n",
       "\n",
       "    .dataframe thead th {\n",
       "        text-align: right;\n",
       "    }\n",
       "</style>\n",
       "<table border=\"1\" class=\"dataframe\">\n",
       "  <thead>\n",
       "    <tr style=\"text-align: right;\">\n",
       "      <th></th>\n",
       "      <th>Módulo</th>\n",
       "      <th>fase</th>\n",
       "    </tr>\n",
       "  </thead>\n",
       "  <tbody>\n",
       "    <tr>\n",
       "      <th>Ian</th>\n",
       "      <td>[0.8262762767633536]</td>\n",
       "      <td>-18.434949</td>\n",
       "    </tr>\n",
       "    <tr>\n",
       "      <th>Ibn</th>\n",
       "      <td>[0.7408190429803652]</td>\n",
       "      <td>176.565051</td>\n",
       "    </tr>\n",
       "    <tr>\n",
       "      <th>Icn</th>\n",
       "      <td>[0.22140006108373558]</td>\n",
       "      <td>101.565051</td>\n",
       "    </tr>\n",
       "    <tr>\n",
       "      <th>Ra</th>\n",
       "      <td>230</td>\n",
       "      <td>0.000000</td>\n",
       "    </tr>\n",
       "    <tr>\n",
       "      <th>Rb</th>\n",
       "      <td>230.0</td>\n",
       "      <td>90.000000</td>\n",
       "    </tr>\n",
       "    <tr>\n",
       "      <th>Rc</th>\n",
       "      <td>230</td>\n",
       "      <td>0.000000</td>\n",
       "    </tr>\n",
       "    <tr>\n",
       "      <th>Van</th>\n",
       "      <td>[190.04354365557134]</td>\n",
       "      <td>-18.434949</td>\n",
       "    </tr>\n",
       "    <tr>\n",
       "      <th>Vbn</th>\n",
       "      <td>[170.38837988548394]</td>\n",
       "      <td>-93.434949</td>\n",
       "    </tr>\n",
       "    <tr>\n",
       "      <th>Vcn</th>\n",
       "      <td>[50.922014049259175]</td>\n",
       "      <td>101.565051</td>\n",
       "    </tr>\n",
       "  </tbody>\n",
       "</table>\n",
       "</div>"
      ],
      "text/plain": [
       "                    Módulo        fase\n",
       "Ian   [0.8262762767633536]  -18.434949\n",
       "Ibn   [0.7408190429803652]  176.565051\n",
       "Icn  [0.22140006108373558]  101.565051\n",
       "Ra                     230    0.000000\n",
       "Rb                   230.0   90.000000\n",
       "Rc                     230    0.000000\n",
       "Van   [190.04354365557134]  -18.434949\n",
       "Vbn   [170.38837988548394]  -93.434949\n",
       "Vcn   [50.922014049259175]  101.565051"
      ]
     },
     "metadata": {},
     "output_type": "display_data"
    }
   ],
   "source": [
    "vals = [Ian,  Ibn,  Icn,\n",
    "        Rya,  Ryb,  Ryc,\n",
    "        Van, Vbn ,Vcn]\n",
    "datas = []\n",
    "for i in vals:\n",
    "    f = [abs(i),(cm.phase(i))*180/(m.pi)]\n",
    "    datas.append(f)\n",
    "df_vals = pd.DataFrame(data = datas, \n",
    "                       index = ['Ian', 'Ibn', 'Icn',\n",
    "                                'Ra', 'Rb', 'Rc',\n",
    "                                'Van', 'Vbn' ,'Vcn'], \n",
    "                       columns = ['Módulo','fase'])\n",
    "display(df_vals)"
   ]
  }
 ],
 "metadata": {
  "kernelspec": {
   "display_name": "Python 3 (ipykernel)",
   "language": "python",
   "name": "python3"
  },
  "language_info": {
   "codemirror_mode": {
    "name": "ipython",
    "version": 3
   },
   "file_extension": ".py",
   "mimetype": "text/x-python",
   "name": "python",
   "nbconvert_exporter": "python",
   "pygments_lexer": "ipython3",
   "version": "3.7.10"
  }
 },
 "nbformat": 4,
 "nbformat_minor": 5
}
