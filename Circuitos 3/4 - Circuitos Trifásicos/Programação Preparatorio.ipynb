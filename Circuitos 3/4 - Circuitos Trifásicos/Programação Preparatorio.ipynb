{
 "cells": [
  {
   "cell_type": "markdown",
   "id": "7c2234e1",
   "metadata": {},
   "source": [
    "# Experimento 4\n",
    "## Circuitos Trifásicos\n",
    "Aluno: \n",
    "    \n",
    "    Victor Hugo de Avelar Rezende\n",
    "\n",
    "Professor: \n",
    "\n",
    "    Sergio Leon Escalante"
   ]
  },
  {
   "cell_type": "markdown",
   "id": "1d74ecfe",
   "metadata": {},
   "source": [
    "# Bibliotecas"
   ]
  },
  {
   "cell_type": "code",
   "execution_count": 42,
   "id": "e6ea1a04",
   "metadata": {},
   "outputs": [],
   "source": [
    "import math as m\n",
    "import cmath as cm\n",
    "import pandas as pd\n",
    "import numpy as np"
   ]
  },
  {
   "cell_type": "markdown",
   "id": "3b8c34dc",
   "metadata": {},
   "source": [
    "# Préambulo"
   ]
  },
  {
   "cell_type": "markdown",
   "id": "50b942cc",
   "metadata": {},
   "source": [
    "## Tensão de fase"
   ]
  },
  {
   "cell_type": "code",
   "execution_count": 43,
   "id": "1f041333",
   "metadata": {},
   "outputs": [],
   "source": [
    "Van = 127*complex(m.cos(0),m.sin(0))\n",
    "Vbn = 127*complex(m.cos(np.radians(-120)),m.sin(np.radians(-120)))\n",
    "Vcn = 127*complex(m.cos(np.radians(120)),m.sin(np.radians(120)))"
   ]
  },
  {
   "cell_type": "markdown",
   "id": "da14f3c4",
   "metadata": {},
   "source": [
    "## Resistencias"
   ]
  },
  {
   "cell_type": "code",
   "execution_count": 44,
   "id": "8ed2b1f6",
   "metadata": {},
   "outputs": [],
   "source": [
    "Ra = Rb = Rc = 230"
   ]
  },
  {
   "cell_type": "markdown",
   "id": "230cea38",
   "metadata": {},
   "source": [
    "## Vizualização dos valores"
   ]
  },
  {
   "cell_type": "code",
   "execution_count": 45,
   "id": "bb343152",
   "metadata": {},
   "outputs": [
    {
     "data": {
      "text/html": [
       "<div>\n",
       "<style scoped>\n",
       "    .dataframe tbody tr th:only-of-type {\n",
       "        vertical-align: middle;\n",
       "    }\n",
       "\n",
       "    .dataframe tbody tr th {\n",
       "        vertical-align: top;\n",
       "    }\n",
       "\n",
       "    .dataframe thead th {\n",
       "        text-align: right;\n",
       "    }\n",
       "</style>\n",
       "<table border=\"1\" class=\"dataframe\">\n",
       "  <thead>\n",
       "    <tr style=\"text-align: right;\">\n",
       "      <th></th>\n",
       "      <th>Módulo</th>\n",
       "      <th>fase</th>\n",
       "    </tr>\n",
       "  </thead>\n",
       "  <tbody>\n",
       "    <tr>\n",
       "      <th>Van</th>\n",
       "      <td>127.0</td>\n",
       "      <td>0.0</td>\n",
       "    </tr>\n",
       "    <tr>\n",
       "      <th>Vbn</th>\n",
       "      <td>127.0</td>\n",
       "      <td>-120.0</td>\n",
       "    </tr>\n",
       "    <tr>\n",
       "      <th>Vcn</th>\n",
       "      <td>127.0</td>\n",
       "      <td>120.0</td>\n",
       "    </tr>\n",
       "    <tr>\n",
       "      <th>Ra</th>\n",
       "      <td>230.0</td>\n",
       "      <td>0.0</td>\n",
       "    </tr>\n",
       "    <tr>\n",
       "      <th>Rb</th>\n",
       "      <td>230.0</td>\n",
       "      <td>0.0</td>\n",
       "    </tr>\n",
       "    <tr>\n",
       "      <th>Rc</th>\n",
       "      <td>230.0</td>\n",
       "      <td>0.0</td>\n",
       "    </tr>\n",
       "  </tbody>\n",
       "</table>\n",
       "</div>"
      ],
      "text/plain": [
       "     Módulo   fase\n",
       "Van   127.0    0.0\n",
       "Vbn   127.0 -120.0\n",
       "Vcn   127.0  120.0\n",
       "Ra    230.0    0.0\n",
       "Rb    230.0    0.0\n",
       "Rc    230.0    0.0"
      ]
     },
     "metadata": {},
     "output_type": "display_data"
    }
   ],
   "source": [
    "vals = [Van, Vbn ,Vcn,\n",
    "        Ra, Rb, Rc]\n",
    "datas = []\n",
    "for i in vals:\n",
    "    f = [abs(i),(cm.phase(i))*180/(m.pi)]\n",
    "    datas.append(f)\n",
    "df_vals = pd.DataFrame(data = datas, \n",
    "                       index = ['Van', 'Vbn', 'Vcn',\n",
    "                                'Ra', 'Rb', 'Rc'], \n",
    "                       columns = ['Módulo','fase'])\n",
    "display(df_vals)"
   ]
  },
  {
   "cell_type": "markdown",
   "id": "5e78681d",
   "metadata": {},
   "source": [
    "# 4.1"
   ]
  },
  {
   "cell_type": "markdown",
   "id": "46034602",
   "metadata": {},
   "source": [
    "## a)"
   ]
  },
  {
   "cell_type": "code",
   "execution_count": 46,
   "id": "c787e6b3",
   "metadata": {},
   "outputs": [],
   "source": [
    "Ia = Ib = (Van - Vbn)/(Ra+Rb)\n",
    "VNN = Van - IA*Ra\n",
    "S = (Ia*Ra)*Ia.conjugate() + (Ib*Rb)*Ib.conjugate()"
   ]
  },
  {
   "cell_type": "code",
   "execution_count": 47,
   "id": "0acea8d1",
   "metadata": {},
   "outputs": [
    {
     "data": {
      "text/html": [
       "<div>\n",
       "<style scoped>\n",
       "    .dataframe tbody tr th:only-of-type {\n",
       "        vertical-align: middle;\n",
       "    }\n",
       "\n",
       "    .dataframe tbody tr th {\n",
       "        vertical-align: top;\n",
       "    }\n",
       "\n",
       "    .dataframe thead th {\n",
       "        text-align: right;\n",
       "    }\n",
       "</style>\n",
       "<table border=\"1\" class=\"dataframe\">\n",
       "  <thead>\n",
       "    <tr style=\"text-align: right;\">\n",
       "      <th></th>\n",
       "      <th>Módulo</th>\n",
       "      <th>fase</th>\n",
       "    </tr>\n",
       "  </thead>\n",
       "  <tbody>\n",
       "    <tr>\n",
       "      <th>Ia</th>\n",
       "      <td>0.478197</td>\n",
       "      <td>30.0</td>\n",
       "    </tr>\n",
       "    <tr>\n",
       "      <th>Ib</th>\n",
       "      <td>0.478197</td>\n",
       "      <td>30.0</td>\n",
       "    </tr>\n",
       "    <tr>\n",
       "      <th>VNN</th>\n",
       "      <td>63.500000</td>\n",
       "      <td>-60.0</td>\n",
       "    </tr>\n",
       "    <tr>\n",
       "      <th>S</th>\n",
       "      <td>105.189130</td>\n",
       "      <td>0.0</td>\n",
       "    </tr>\n",
       "  </tbody>\n",
       "</table>\n",
       "</div>"
      ],
      "text/plain": [
       "         Módulo  fase\n",
       "Ia     0.478197  30.0\n",
       "Ib     0.478197  30.0\n",
       "VNN   63.500000 -60.0\n",
       "S    105.189130   0.0"
      ]
     },
     "metadata": {},
     "output_type": "display_data"
    }
   ],
   "source": [
    "vals = [Ia, Ib ,\n",
    "        VNN,\n",
    "        S]\n",
    "datas = []\n",
    "for i in vals:\n",
    "    f = [abs(i),(cm.phase(i))*180/(m.pi)]\n",
    "    datas.append(f)\n",
    "df_vals = pd.DataFrame(data = datas, \n",
    "                       index = ['Ia', 'Ib',\n",
    "                                'VNN',\n",
    "                                'S'], \n",
    "                       columns = ['Módulo','fase'])\n",
    "display(df_vals)"
   ]
  },
  {
   "cell_type": "markdown",
   "id": "2bbd25d4",
   "metadata": {},
   "source": [
    "## b)\n"
   ]
  },
  {
   "cell_type": "code",
   "execution_count": 48,
   "id": "8f601e54",
   "metadata": {},
   "outputs": [],
   "source": [
    "Ia = Van/Ra\n",
    "Ib = Vbn/Rb\n",
    "IN = Ia + Ib\n",
    "S = Van*Ia.conjugate() + Vbn*Ib.conjugate()"
   ]
  },
  {
   "cell_type": "code",
   "execution_count": 49,
   "id": "24753037",
   "metadata": {},
   "outputs": [
    {
     "data": {
      "text/html": [
       "<div>\n",
       "<style scoped>\n",
       "    .dataframe tbody tr th:only-of-type {\n",
       "        vertical-align: middle;\n",
       "    }\n",
       "\n",
       "    .dataframe tbody tr th {\n",
       "        vertical-align: top;\n",
       "    }\n",
       "\n",
       "    .dataframe thead th {\n",
       "        text-align: right;\n",
       "    }\n",
       "</style>\n",
       "<table border=\"1\" class=\"dataframe\">\n",
       "  <thead>\n",
       "    <tr style=\"text-align: right;\">\n",
       "      <th></th>\n",
       "      <th>Módulo</th>\n",
       "      <th>fase</th>\n",
       "    </tr>\n",
       "  </thead>\n",
       "  <tbody>\n",
       "    <tr>\n",
       "      <th>Ia</th>\n",
       "      <td>0.552174</td>\n",
       "      <td>0.000000e+00</td>\n",
       "    </tr>\n",
       "    <tr>\n",
       "      <th>Ib</th>\n",
       "      <td>0.552174</td>\n",
       "      <td>-1.200000e+02</td>\n",
       "    </tr>\n",
       "    <tr>\n",
       "      <th>IN</th>\n",
       "      <td>0.552174</td>\n",
       "      <td>-6.000000e+01</td>\n",
       "    </tr>\n",
       "    <tr>\n",
       "      <th>S</th>\n",
       "      <td>140.252174</td>\n",
       "      <td>-1.451354e-15</td>\n",
       "    </tr>\n",
       "  </tbody>\n",
       "</table>\n",
       "</div>"
      ],
      "text/plain": [
       "        Módulo          fase\n",
       "Ia    0.552174  0.000000e+00\n",
       "Ib    0.552174 -1.200000e+02\n",
       "IN    0.552174 -6.000000e+01\n",
       "S   140.252174 -1.451354e-15"
      ]
     },
     "metadata": {},
     "output_type": "display_data"
    }
   ],
   "source": [
    "vals = [Ia, Ib ,\n",
    "        IN,\n",
    "        S]\n",
    "datas = []\n",
    "for i in vals:\n",
    "    f = [abs(i),(cm.phase(i))*180/(m.pi)]\n",
    "    datas.append(f)\n",
    "df_vals = pd.DataFrame(data = datas, \n",
    "                       index = ['Ia', 'Ib',\n",
    "                                'IN',\n",
    "                                'S'], \n",
    "                       columns = ['Módulo','fase'])\n",
    "display(df_vals)"
   ]
  },
  {
   "cell_type": "markdown",
   "id": "b90b5e19",
   "metadata": {},
   "source": [
    "# 4.2"
   ]
  },
  {
   "cell_type": "code",
   "execution_count": 50,
   "id": "4a34515e",
   "metadata": {},
   "outputs": [],
   "source": [
    "Rx1 = Rx2=230"
   ]
  },
  {
   "cell_type": "markdown",
   "id": "41ea9825",
   "metadata": {},
   "source": [
    "## a)\n",
    "Mesmos resultados obtidos na parte 4.1 a)"
   ]
  },
  {
   "cell_type": "markdown",
   "id": "2177e0d6",
   "metadata": {},
   "source": [
    "## b)"
   ]
  },
  {
   "cell_type": "markdown",
   "id": "fef50072",
   "metadata": {},
   "source": [
    "### Malhas\n",
    "Resolvendo sistemas com as malhas \\\n",
    "\\\n",
    "Malha 1:\n",
    "    \n",
    "    Van - Ra*I1 - Rb*I1 + Rb*I2 - Vbn = 0\n",
    "    \n",
    "Malha 2:\n",
    "    \n",
    "    Vbn - Rb*I2 + Rb*I1 - Rc*I2 - Vcn = 0"
   ]
  },
  {
   "cell_type": "code",
   "execution_count": 51,
   "id": "c7d1f431",
   "metadata": {},
   "outputs": [],
   "source": [
    "M1 = np.array([[(Ra+Rb),-Rb],\n",
    "              [-Rb,(Rb+Rc)]])\n",
    "M2 = np.array([[(Van-Vbn)],\n",
    "              [(Vbn-Vcn)]])\n",
    "I = np.linalg.solve(M1,M2)\n",
    "\n",
    "I1 = I[0]\n",
    "I2 = I[1]\n"
   ]
  },
  {
   "cell_type": "code",
   "execution_count": 52,
   "id": "ae659ab7",
   "metadata": {},
   "outputs": [],
   "source": [
    "Ia = I1\n",
    "Ib = I2 - I1\n",
    "Ic = -I2"
   ]
  },
  {
   "cell_type": "code",
   "execution_count": 53,
   "id": "8b56a1d0",
   "metadata": {},
   "outputs": [],
   "source": [
    "VNN = Van - Ia*Ra\n",
    "S = (Ia*Ra)*Ia.conjugate() + (Ib*Rb)*IB.conjugate() + (Ic*Rc)*Ic.conjugate()"
   ]
  },
  {
   "cell_type": "code",
   "execution_count": 54,
   "id": "bd48357c",
   "metadata": {},
   "outputs": [
    {
     "data": {
      "text/html": [
       "<div>\n",
       "<style scoped>\n",
       "    .dataframe tbody tr th:only-of-type {\n",
       "        vertical-align: middle;\n",
       "    }\n",
       "\n",
       "    .dataframe tbody tr th {\n",
       "        vertical-align: top;\n",
       "    }\n",
       "\n",
       "    .dataframe thead th {\n",
       "        text-align: right;\n",
       "    }\n",
       "</style>\n",
       "<table border=\"1\" class=\"dataframe\">\n",
       "  <thead>\n",
       "    <tr style=\"text-align: right;\">\n",
       "      <th></th>\n",
       "      <th>Módulo</th>\n",
       "      <th>fase</th>\n",
       "    </tr>\n",
       "  </thead>\n",
       "  <tbody>\n",
       "    <tr>\n",
       "      <th>Ia</th>\n",
       "      <td>[0.5521739130434781]</td>\n",
       "      <td>0.000000</td>\n",
       "    </tr>\n",
       "    <tr>\n",
       "      <th>Ib</th>\n",
       "      <td>[0.5521739130434783]</td>\n",
       "      <td>-120.000000</td>\n",
       "    </tr>\n",
       "    <tr>\n",
       "      <th>Ic</th>\n",
       "      <td>[0.5521739130434783]</td>\n",
       "      <td>120.000000</td>\n",
       "    </tr>\n",
       "    <tr>\n",
       "      <th>VNN</th>\n",
       "      <td>[4.263256414560601e-14]</td>\n",
       "      <td>0.000000</td>\n",
       "    </tr>\n",
       "    <tr>\n",
       "      <th>S</th>\n",
       "      <td>[92.7680932525234]</td>\n",
       "      <td>-19.106605</td>\n",
       "    </tr>\n",
       "  </tbody>\n",
       "</table>\n",
       "</div>"
      ],
      "text/plain": [
       "                      Módulo        fase\n",
       "Ia      [0.5521739130434781]    0.000000\n",
       "Ib      [0.5521739130434783] -120.000000\n",
       "Ic      [0.5521739130434783]  120.000000\n",
       "VNN  [4.263256414560601e-14]    0.000000\n",
       "S         [92.7680932525234]  -19.106605"
      ]
     },
     "metadata": {},
     "output_type": "display_data"
    }
   ],
   "source": [
    "vals = [Ia, Ib, Ic,\n",
    "        VNN,\n",
    "        S]\n",
    "datas = []\n",
    "for i in vals:\n",
    "    f = [abs(i),(cm.phase(i))*180/(m.pi)]\n",
    "    datas.append(f)\n",
    "df_vals = pd.DataFrame(data = datas, \n",
    "                       index = ['Ia', 'Ib', 'Ic',\n",
    "                                'VNN',\n",
    "                                'S'], \n",
    "                       columns = ['Módulo','fase'])\n",
    "display(df_vals)"
   ]
  },
  {
   "cell_type": "markdown",
   "id": "a07e4c1e",
   "metadata": {},
   "source": [
    "## c)\n",
    "Mesmos resultad do item 4.1 b)"
   ]
  },
  {
   "cell_type": "markdown",
   "id": "32cf87dd",
   "metadata": {},
   "source": [
    "## d)"
   ]
  },
  {
   "cell_type": "markdown",
   "id": "23a0791b",
   "metadata": {},
   "source": [
    "### Malhas\n",
    "Resolvendo sistemas com as malhas \\\n",
    "\\\n",
    "Malha 1:\n",
    "    \n",
    "    Van - Ra*I1 + Ra*I3 - Rb*I1 + Rb*I2 - Vbn = 0\n",
    "    \n",
    "Malha 2:\n",
    "    \n",
    "    Vbn - Rb*I2 + Rb*I1 - Rc*I2 + Rc*I3 - Vcn = 0\n",
    "    \n",
    "Malha 3:\n",
    "    \n",
    "    -Ra*I3 + Ra*I1 - Rx2*I3 - Rx2*I3 - Rc*I3 + Rc*I2= 0"
   ]
  },
  {
   "cell_type": "code",
   "execution_count": 55,
   "id": "f9368a00",
   "metadata": {},
   "outputs": [],
   "source": [
    "M1 = np.array([[(Ra+Rb),-Rb,-Ra],\n",
    "               [-Rb,(Rb+Rc),-Rc],\n",
    "               [Ra,Rc,-Ra-Rc-Rx2-Rx2]])\n",
    "M2 = np.array([[(Van-Vbn)],\n",
    "               [(Vbn-Vcn)],\n",
    "               [0]])\n",
    "I = np.linalg.solve(M1,M2)\n",
    "\n",
    "I1 = I[0]\n",
    "I2 = I[1]\n",
    "I3 = I[2]\n",
    "\n",
    "Ia = I1\n",
    "Ib = I2 - I1\n",
    "Ic = -I2\n",
    "Ia1 = I1 - I3\n",
    "Ia2 = I3\n",
    "Ic1 = -I2 + I3\n",
    "Ic2 = -I3"
   ]
  },
  {
   "cell_type": "code",
   "execution_count": 56,
   "id": "ef9f9cdd",
   "metadata": {},
   "outputs": [],
   "source": [
    "VNN1 = Van - Ia1*Ra\n",
    "VNN2 = Van - Ia2*Rx2\n",
    "VN1N2 = VNN2 - VNN1\n",
    "S = Van*Ia.conjugate() + Vbn*Ib.conjugate() + Vcn*Ic.conjugate()"
   ]
  },
  {
   "cell_type": "code",
   "execution_count": 57,
   "id": "a7f1b2a5",
   "metadata": {
    "scrolled": true
   },
   "outputs": [
    {
     "data": {
      "text/html": [
       "<div>\n",
       "<style scoped>\n",
       "    .dataframe tbody tr th:only-of-type {\n",
       "        vertical-align: middle;\n",
       "    }\n",
       "\n",
       "    .dataframe tbody tr th {\n",
       "        vertical-align: top;\n",
       "    }\n",
       "\n",
       "    .dataframe thead th {\n",
       "        text-align: right;\n",
       "    }\n",
       "</style>\n",
       "<table border=\"1\" class=\"dataframe\">\n",
       "  <thead>\n",
       "    <tr style=\"text-align: right;\">\n",
       "      <th></th>\n",
       "      <th>Módulo</th>\n",
       "      <th>fase</th>\n",
       "    </tr>\n",
       "  </thead>\n",
       "  <tbody>\n",
       "    <tr>\n",
       "      <th>Ia</th>\n",
       "      <td>[0.9954456782259271]</td>\n",
       "      <td>-1.389789e+01</td>\n",
       "    </tr>\n",
       "    <tr>\n",
       "      <th>Ib</th>\n",
       "      <td>[0.5521739130434784]</td>\n",
       "      <td>-1.200000e+02</td>\n",
       "    </tr>\n",
       "    <tr>\n",
       "      <th>Ic</th>\n",
       "      <td>[0.9954456782259273]</td>\n",
       "      <td>1.338979e+02</td>\n",
       "    </tr>\n",
       "    <tr>\n",
       "      <th>Ia1</th>\n",
       "      <td>[0.5521739130434782]</td>\n",
       "      <td>0.000000e+00</td>\n",
       "    </tr>\n",
       "    <tr>\n",
       "      <th>Ia2</th>\n",
       "      <td>[0.4781966360027117]</td>\n",
       "      <td>-3.000000e+01</td>\n",
       "    </tr>\n",
       "    <tr>\n",
       "      <th>Ic1</th>\n",
       "      <td>[0.5521739130434783]</td>\n",
       "      <td>1.200000e+02</td>\n",
       "    </tr>\n",
       "    <tr>\n",
       "      <th>Ic2</th>\n",
       "      <td>[0.4781966360027117]</td>\n",
       "      <td>1.500000e+02</td>\n",
       "    </tr>\n",
       "    <tr>\n",
       "      <th>VNN1</th>\n",
       "      <td>[1.4210854715202004e-14]</td>\n",
       "      <td>0.000000e+00</td>\n",
       "    </tr>\n",
       "    <tr>\n",
       "      <th>VNN2</th>\n",
       "      <td>[63.500000000000036]</td>\n",
       "      <td>6.000000e+01</td>\n",
       "    </tr>\n",
       "    <tr>\n",
       "      <th>VN1N2</th>\n",
       "      <td>[63.50000000000003]</td>\n",
       "      <td>6.000000e+01</td>\n",
       "    </tr>\n",
       "    <tr>\n",
       "      <th>S</th>\n",
       "      <td>[315.5673913043478]</td>\n",
       "      <td>5.805414e-15</td>\n",
       "    </tr>\n",
       "  </tbody>\n",
       "</table>\n",
       "</div>"
      ],
      "text/plain": [
       "                         Módulo          fase\n",
       "Ia         [0.9954456782259271] -1.389789e+01\n",
       "Ib         [0.5521739130434784] -1.200000e+02\n",
       "Ic         [0.9954456782259273]  1.338979e+02\n",
       "Ia1        [0.5521739130434782]  0.000000e+00\n",
       "Ia2        [0.4781966360027117] -3.000000e+01\n",
       "Ic1        [0.5521739130434783]  1.200000e+02\n",
       "Ic2        [0.4781966360027117]  1.500000e+02\n",
       "VNN1   [1.4210854715202004e-14]  0.000000e+00\n",
       "VNN2       [63.500000000000036]  6.000000e+01\n",
       "VN1N2       [63.50000000000003]  6.000000e+01\n",
       "S           [315.5673913043478]  5.805414e-15"
      ]
     },
     "metadata": {},
     "output_type": "display_data"
    }
   ],
   "source": [
    "vals = [Ia, Ib ,Ic,\n",
    "        Ia1, Ia2,\n",
    "        Ic1, Ic2,\n",
    "        VNN1, VNN2, VN1N2,\n",
    "        S]\n",
    "datas = []\n",
    "for i in vals:\n",
    "    f = [abs(i),(cm.phase(i))*180/(m.pi)]\n",
    "    datas.append(f)\n",
    "df_vals = pd.DataFrame(data = datas, \n",
    "                       index = ['Ia', 'Ib' , 'Ic',\n",
    "                               'Ia1', 'Ia2',\n",
    "                               'Ic1', 'Ic2',\n",
    "                               'VNN1', 'VNN2', 'VN1N2',\n",
    "                               'S'], \n",
    "                       columns = ['Módulo','fase'])\n",
    "display(df_vals)"
   ]
  },
  {
   "cell_type": "markdown",
   "id": "03604bc8",
   "metadata": {},
   "source": [
    "## e)"
   ]
  },
  {
   "cell_type": "code",
   "execution_count": 58,
   "id": "18cdeae9",
   "metadata": {},
   "outputs": [],
   "source": [
    "RA = (Ra*Rx2)/(Ra+Rx2)\n",
    "RC = (Rc*Rx2)/(Rc+Rx2)"
   ]
  },
  {
   "cell_type": "markdown",
   "id": "866e8889",
   "metadata": {},
   "source": [
    "### Malhas\n",
    "Resolvendo sistemas com as malhas \\\n",
    "\\\n",
    "Malha 1:\n",
    "    \n",
    "    Van - RA*I1 - Rb*I1 + Rb*I2 - Vbn = 0\n",
    "    \n",
    "Malha 2:\n",
    "    \n",
    "    Vbn - Rb*I2 + Rb*I1 - RC*I2 - Vcn = 0"
   ]
  },
  {
   "cell_type": "code",
   "execution_count": 59,
   "id": "f74950d4",
   "metadata": {},
   "outputs": [],
   "source": [
    "M1 = np.array([[(RA+Rb),-Rb],\n",
    "              [-Rb,(Rb+RC)]])\n",
    "M2 = np.array([[(Van-Vbn)],\n",
    "              [(Vbn-Vcn)]])\n",
    "I = np.linalg.solve(M1,M2)\n",
    "\n",
    "I1 = I[0]\n",
    "I2 = I[1]\n",
    "\n",
    "Ia = I1\n",
    "Ib = I2 - I1\n",
    "Ic = -I2\n",
    "Ia1 = Ia*(Rx2/(Ra+Rx2))\n",
    "Ia2 = Ia*(Ra/(Ra+Rx2))\n",
    "Ic1 = Ic*(Rx2/(Rc+Rx2))\n",
    "Ic2 = Ic*(Rc/(Rc+Rx2))"
   ]
  },
  {
   "cell_type": "code",
   "execution_count": 60,
   "id": "da67479e",
   "metadata": {},
   "outputs": [],
   "source": [
    "VNN1 = VNN2 = Van - Ia1*Ra\n",
    "VN1N2 = 0\n",
    "S = Van*Ia.conjugate() + Vbn*Ib.conjugate() + Vcn*Ic.conjugate()"
   ]
  },
  {
   "cell_type": "code",
   "execution_count": 61,
   "id": "61acf0ad",
   "metadata": {},
   "outputs": [
    {
     "data": {
      "text/html": [
       "<div>\n",
       "<style scoped>\n",
       "    .dataframe tbody tr th:only-of-type {\n",
       "        vertical-align: middle;\n",
       "    }\n",
       "\n",
       "    .dataframe tbody tr th {\n",
       "        vertical-align: top;\n",
       "    }\n",
       "\n",
       "    .dataframe thead th {\n",
       "        text-align: right;\n",
       "    }\n",
       "</style>\n",
       "<table border=\"1\" class=\"dataframe\">\n",
       "  <thead>\n",
       "    <tr style=\"text-align: right;\">\n",
       "      <th></th>\n",
       "      <th>Módulo</th>\n",
       "      <th>fase</th>\n",
       "    </tr>\n",
       "  </thead>\n",
       "  <tbody>\n",
       "    <tr>\n",
       "      <th>Ia</th>\n",
       "      <td>[1.012151501320681]</td>\n",
       "      <td>-1.089339e+01</td>\n",
       "    </tr>\n",
       "    <tr>\n",
       "      <th>Ib</th>\n",
       "      <td>[0.6626086956521738]</td>\n",
       "      <td>-1.200000e+02</td>\n",
       "    </tr>\n",
       "    <tr>\n",
       "      <th>Ic</th>\n",
       "      <td>[1.0121515013206812]</td>\n",
       "      <td>1.308934e+02</td>\n",
       "    </tr>\n",
       "    <tr>\n",
       "      <th>Ia1</th>\n",
       "      <td>[0.5060757506603405]</td>\n",
       "      <td>-1.089339e+01</td>\n",
       "    </tr>\n",
       "    <tr>\n",
       "      <th>Ia2</th>\n",
       "      <td>[0.5060757506603405]</td>\n",
       "      <td>-1.089339e+01</td>\n",
       "    </tr>\n",
       "    <tr>\n",
       "      <th>Ic1</th>\n",
       "      <td>[0.5060757506603406]</td>\n",
       "      <td>1.308934e+02</td>\n",
       "    </tr>\n",
       "    <tr>\n",
       "      <th>Ic2</th>\n",
       "      <td>[0.5060757506603406]</td>\n",
       "      <td>1.308934e+02</td>\n",
       "    </tr>\n",
       "    <tr>\n",
       "      <th>VNN1</th>\n",
       "      <td>[25.400000000000013]</td>\n",
       "      <td>6.000000e+01</td>\n",
       "    </tr>\n",
       "    <tr>\n",
       "      <th>VNN2</th>\n",
       "      <td>[25.400000000000013]</td>\n",
       "      <td>6.000000e+01</td>\n",
       "    </tr>\n",
       "    <tr>\n",
       "      <th>VN1N2</th>\n",
       "      <td>0</td>\n",
       "      <td>0.000000e+00</td>\n",
       "    </tr>\n",
       "    <tr>\n",
       "      <th>S</th>\n",
       "      <td>[336.6052173913043]</td>\n",
       "      <td>-1.209461e-15</td>\n",
       "    </tr>\n",
       "  </tbody>\n",
       "</table>\n",
       "</div>"
      ],
      "text/plain": [
       "                     Módulo          fase\n",
       "Ia      [1.012151501320681] -1.089339e+01\n",
       "Ib     [0.6626086956521738] -1.200000e+02\n",
       "Ic     [1.0121515013206812]  1.308934e+02\n",
       "Ia1    [0.5060757506603405] -1.089339e+01\n",
       "Ia2    [0.5060757506603405] -1.089339e+01\n",
       "Ic1    [0.5060757506603406]  1.308934e+02\n",
       "Ic2    [0.5060757506603406]  1.308934e+02\n",
       "VNN1   [25.400000000000013]  6.000000e+01\n",
       "VNN2   [25.400000000000013]  6.000000e+01\n",
       "VN1N2                     0  0.000000e+00\n",
       "S       [336.6052173913043] -1.209461e-15"
      ]
     },
     "metadata": {},
     "output_type": "display_data"
    }
   ],
   "source": [
    "vals = [Ia, Ib ,Ic,\n",
    "        Ia1, Ia2,\n",
    "        Ic1, Ic2,\n",
    "        VNN1, VNN2, VN1N2,\n",
    "        S]\n",
    "datas = []\n",
    "for i in vals:\n",
    "    f = [abs(i),(cm.phase(i))*180/(m.pi)]\n",
    "    datas.append(f)\n",
    "df_vals = pd.DataFrame(data = datas, \n",
    "                       index = ['Ia', 'Ib' , 'Ic',\n",
    "                               'Ia1', 'Ia2',\n",
    "                               'Ic1', 'Ic2',\n",
    "                               'VNN1', 'VNN2', 'VN1N2',\n",
    "                               'S'], \n",
    "                       columns = ['Módulo','fase'])\n",
    "display(df_vals)"
   ]
  },
  {
   "cell_type": "markdown",
   "id": "9752c2af",
   "metadata": {},
   "source": [
    "# 4.3"
   ]
  },
  {
   "cell_type": "markdown",
   "id": "96befd8f",
   "metadata": {},
   "source": [
    "## a)"
   ]
  },
  {
   "cell_type": "code",
   "execution_count": 62,
   "id": "60d7362e",
   "metadata": {},
   "outputs": [],
   "source": [
    "Ia = (Van - Vbn)/Ra\n",
    "Ic = (Vcn - Vbn)/Rc\n",
    "Ib = - (Ia + Ic)"
   ]
  },
  {
   "cell_type": "code",
   "execution_count": 63,
   "id": "6a59fb5b",
   "metadata": {},
   "outputs": [
    {
     "data": {
      "text/html": [
       "<div>\n",
       "<style scoped>\n",
       "    .dataframe tbody tr th:only-of-type {\n",
       "        vertical-align: middle;\n",
       "    }\n",
       "\n",
       "    .dataframe tbody tr th {\n",
       "        vertical-align: top;\n",
       "    }\n",
       "\n",
       "    .dataframe thead th {\n",
       "        text-align: right;\n",
       "    }\n",
       "</style>\n",
       "<table border=\"1\" class=\"dataframe\">\n",
       "  <thead>\n",
       "    <tr style=\"text-align: right;\">\n",
       "      <th></th>\n",
       "      <th>Módulo</th>\n",
       "      <th>fase</th>\n",
       "    </tr>\n",
       "  </thead>\n",
       "  <tbody>\n",
       "    <tr>\n",
       "      <th>Ia</th>\n",
       "      <td>0.956393</td>\n",
       "      <td>30.0</td>\n",
       "    </tr>\n",
       "    <tr>\n",
       "      <th>Ib</th>\n",
       "      <td>1.656522</td>\n",
       "      <td>-120.0</td>\n",
       "    </tr>\n",
       "    <tr>\n",
       "      <th>Ic</th>\n",
       "      <td>0.956393</td>\n",
       "      <td>90.0</td>\n",
       "    </tr>\n",
       "  </tbody>\n",
       "</table>\n",
       "</div>"
      ],
      "text/plain": [
       "      Módulo   fase\n",
       "Ia  0.956393   30.0\n",
       "Ib  1.656522 -120.0\n",
       "Ic  0.956393   90.0"
      ]
     },
     "metadata": {},
     "output_type": "display_data"
    }
   ],
   "source": [
    "vals = [Ia, Ib ,Ic]\n",
    "datas = []\n",
    "for i in vals:\n",
    "    f = [abs(i),(cm.phase(i))*180/(m.pi)]\n",
    "    datas.append(f)\n",
    "df_vals = pd.DataFrame(data = datas, \n",
    "                       index = ['Ia', 'Ib' , 'Ic'], \n",
    "                       columns = ['Módulo','fase'])\n",
    "display(df_vals)"
   ]
  },
  {
   "cell_type": "markdown",
   "id": "b24adc26",
   "metadata": {},
   "source": [
    "## b)"
   ]
  },
  {
   "cell_type": "code",
   "execution_count": 64,
   "id": "314893b2",
   "metadata": {},
   "outputs": [],
   "source": [
    "Rab = Rbc = Rca = R1a = R1b = R1c =230"
   ]
  },
  {
   "cell_type": "markdown",
   "id": "b31b16c7",
   "metadata": {},
   "source": [
    "### Malhas\n",
    "Resolvendo sistemas com as malhas \\\n",
    "\\\n",
    "Malha 1:\n",
    "    \n",
    "    Van - R1a*I1 - Rab*I1 + Rab*I3 - R1b*I1 + R1b*I2 - Vbn =0\n",
    "    \n",
    "Malha 2:\n",
    "    \n",
    "    Vbn - R1b*I2 + R1b*I1 - Rbc*I2 + Rbc*I3 - R1c*I2 - Vcn = 0\n",
    "    \n",
    "Malha 3:\n",
    "    \n",
    "    -Rab*I3 + Rab*I1 - Rca*I3 - Rbc*I3 + Rbc*I2= 0"
   ]
  },
  {
   "cell_type": "code",
   "execution_count": 65,
   "id": "898ff085",
   "metadata": {},
   "outputs": [],
   "source": [
    "M1 = np.array([[(R1a+R1b+Rab),-R1b,-Rab],\n",
    "              [-R1b,(R1b+R1c+Rbc),-Rbc],\n",
    "              [Rab,Rbc,-Rab-Rbc-Rca]])\n",
    "M2 = np.array([[(Van-Vbn)],\n",
    "              [(Vbn-Vcn)],\n",
    "              [0]])\n",
    "I = np.linalg.solve(M1,M2)\n",
    "\n",
    "I1 = I[0]\n",
    "I2 = I[1]\n",
    "I3 = I[2]\n",
    "\n",
    "Ia = I1\n",
    "Ib = I2 - I1\n",
    "Ic = -I2\n",
    "Iab = I1 - I3\n",
    "Ibc = I2 - I3\n",
    "Ica = -I3\n"
   ]
  },
  {
   "cell_type": "code",
   "execution_count": 66,
   "id": "11e71f17",
   "metadata": {},
   "outputs": [
    {
     "data": {
      "text/html": [
       "<div>\n",
       "<style scoped>\n",
       "    .dataframe tbody tr th:only-of-type {\n",
       "        vertical-align: middle;\n",
       "    }\n",
       "\n",
       "    .dataframe tbody tr th {\n",
       "        vertical-align: top;\n",
       "    }\n",
       "\n",
       "    .dataframe thead th {\n",
       "        text-align: right;\n",
       "    }\n",
       "</style>\n",
       "<table border=\"1\" class=\"dataframe\">\n",
       "  <thead>\n",
       "    <tr style=\"text-align: right;\">\n",
       "      <th></th>\n",
       "      <th>Módulo</th>\n",
       "      <th>fase</th>\n",
       "    </tr>\n",
       "  </thead>\n",
       "  <tbody>\n",
       "    <tr>\n",
       "      <th>Ia</th>\n",
       "      <td>[0.41413043478260847]</td>\n",
       "      <td>8.548262e-15</td>\n",
       "    </tr>\n",
       "    <tr>\n",
       "      <th>Ib</th>\n",
       "      <td>[0.4141304347826087]</td>\n",
       "      <td>-1.200000e+02</td>\n",
       "    </tr>\n",
       "    <tr>\n",
       "      <th>Ic</th>\n",
       "      <td>[0.41413043478260864]</td>\n",
       "      <td>1.200000e+02</td>\n",
       "    </tr>\n",
       "    <tr>\n",
       "      <th>Iab</th>\n",
       "      <td>[0.2390983180013558]</td>\n",
       "      <td>3.000000e+01</td>\n",
       "    </tr>\n",
       "    <tr>\n",
       "      <th>Ibc</th>\n",
       "      <td>[0.23909831800135595]</td>\n",
       "      <td>-9.000000e+01</td>\n",
       "    </tr>\n",
       "    <tr>\n",
       "      <th>Ica</th>\n",
       "      <td>[0.23909831800135573]</td>\n",
       "      <td>1.500000e+02</td>\n",
       "    </tr>\n",
       "  </tbody>\n",
       "</table>\n",
       "</div>"
      ],
      "text/plain": [
       "                    Módulo          fase\n",
       "Ia   [0.41413043478260847]  8.548262e-15\n",
       "Ib    [0.4141304347826087] -1.200000e+02\n",
       "Ic   [0.41413043478260864]  1.200000e+02\n",
       "Iab   [0.2390983180013558]  3.000000e+01\n",
       "Ibc  [0.23909831800135595] -9.000000e+01\n",
       "Ica  [0.23909831800135573]  1.500000e+02"
      ]
     },
     "metadata": {},
     "output_type": "display_data"
    }
   ],
   "source": [
    "vals = [Ia, Ib ,Ic,\n",
    "        Iab, Ibc ,Ica]\n",
    "datas = []\n",
    "for i in vals:\n",
    "    f = [abs(i),(cm.phase(i))*180/(m.pi)]\n",
    "    datas.append(f)\n",
    "df_vals = pd.DataFrame(data = datas, \n",
    "                       index = ['Ia', 'Ib' , 'Ic',\n",
    "                               'Iab', 'Ibc' , 'Ica'], \n",
    "                       columns = ['Módulo','fase'])\n",
    "display(df_vals)"
   ]
  },
  {
   "cell_type": "markdown",
   "id": "f3a696b2",
   "metadata": {},
   "source": [
    "## c)"
   ]
  },
  {
   "cell_type": "code",
   "execution_count": 67,
   "id": "ea1f5dd7",
   "metadata": {},
   "outputs": [],
   "source": [
    "Rx2 = 230"
   ]
  },
  {
   "cell_type": "code",
   "execution_count": 68,
   "id": "7562af31",
   "metadata": {},
   "outputs": [],
   "source": [
    "Iab = (Van-Vbn)/Rab\n",
    "Ibc = (Vbn-Vcn)/Rbc\n",
    "Ica = (Vcn-Van)/Rca\n",
    "Ian = (Van-Vbn)/(Rx2+Rx2)\n",
    "Icn = -Ian\n",
    "Ia = Iab - Ica + Ian\n",
    "Ib = Ibc - Iab\n",
    "Ic = Ica - Ibc + Icn"
   ]
  },
  {
   "cell_type": "code",
   "execution_count": 69,
   "id": "62f0be11",
   "metadata": {},
   "outputs": [
    {
     "data": {
      "text/html": [
       "<div>\n",
       "<style scoped>\n",
       "    .dataframe tbody tr th:only-of-type {\n",
       "        vertical-align: middle;\n",
       "    }\n",
       "\n",
       "    .dataframe tbody tr th {\n",
       "        vertical-align: top;\n",
       "    }\n",
       "\n",
       "    .dataframe thead th {\n",
       "        text-align: right;\n",
       "    }\n",
       "</style>\n",
       "<table border=\"1\" class=\"dataframe\">\n",
       "  <thead>\n",
       "    <tr style=\"text-align: right;\">\n",
       "      <th></th>\n",
       "      <th>Módulo</th>\n",
       "      <th>fase</th>\n",
       "    </tr>\n",
       "  </thead>\n",
       "  <tbody>\n",
       "    <tr>\n",
       "      <th>Ia</th>\n",
       "      <td>2.084411</td>\n",
       "      <td>6.586776</td>\n",
       "    </tr>\n",
       "    <tr>\n",
       "      <th>Ib</th>\n",
       "      <td>1.656522</td>\n",
       "      <td>-120.000000</td>\n",
       "    </tr>\n",
       "    <tr>\n",
       "      <th>Ic</th>\n",
       "      <td>1.724162</td>\n",
       "      <td>136.102114</td>\n",
       "    </tr>\n",
       "    <tr>\n",
       "      <th>Iab</th>\n",
       "      <td>0.956393</td>\n",
       "      <td>30.000000</td>\n",
       "    </tr>\n",
       "    <tr>\n",
       "      <th>Ibc</th>\n",
       "      <td>0.956393</td>\n",
       "      <td>-90.000000</td>\n",
       "    </tr>\n",
       "    <tr>\n",
       "      <th>Ica</th>\n",
       "      <td>0.956393</td>\n",
       "      <td>150.000000</td>\n",
       "    </tr>\n",
       "    <tr>\n",
       "      <th>Ian</th>\n",
       "      <td>0.478197</td>\n",
       "      <td>30.000000</td>\n",
       "    </tr>\n",
       "    <tr>\n",
       "      <th>Icn</th>\n",
       "      <td>0.478197</td>\n",
       "      <td>-150.000000</td>\n",
       "    </tr>\n",
       "  </tbody>\n",
       "</table>\n",
       "</div>"
      ],
      "text/plain": [
       "       Módulo        fase\n",
       "Ia   2.084411    6.586776\n",
       "Ib   1.656522 -120.000000\n",
       "Ic   1.724162  136.102114\n",
       "Iab  0.956393   30.000000\n",
       "Ibc  0.956393  -90.000000\n",
       "Ica  0.956393  150.000000\n",
       "Ian  0.478197   30.000000\n",
       "Icn  0.478197 -150.000000"
      ]
     },
     "metadata": {},
     "output_type": "display_data"
    }
   ],
   "source": [
    "vals = [Ia, Ib ,Ic,\n",
    "        Iab, Ibc, Ica,\n",
    "        Ian, Icn]\n",
    "datas = []\n",
    "for i in vals:\n",
    "    f = [abs(i),(cm.phase(i))*180/(m.pi)]\n",
    "    datas.append(f)\n",
    "df_vals = pd.DataFrame(data = datas, \n",
    "                       index = ['Ia', 'Ib' , 'Ic',\n",
    "                               'Iab', 'Ibc' , 'Ica',\n",
    "                               'Ian' , 'Icn'], \n",
    "                       columns = ['Módulo','fase'])\n",
    "display(df_vals)"
   ]
  },
  {
   "cell_type": "markdown",
   "id": "5fb9bd41",
   "metadata": {},
   "source": [
    "## d)"
   ]
  },
  {
   "cell_type": "code",
   "execution_count": 70,
   "id": "e9718fde",
   "metadata": {},
   "outputs": [],
   "source": [
    "Iab = (Van-Vbn)/Rab\n",
    "Ibc = (Vbn-Vcn)/Rbc\n",
    "Ica = (Vcn-Van)/Rca\n",
    "Ian = Van/Rx2\n",
    "Icn = Vcn/Rx2\n",
    "Ia = Iab - Ica + Ian\n",
    "Ib = Ibc - Iab\n",
    "Ic = Ica - Ibc + Icn\n",
    "In = Ian + Icn"
   ]
  },
  {
   "cell_type": "code",
   "execution_count": 71,
   "id": "a9e22c26",
   "metadata": {},
   "outputs": [
    {
     "data": {
      "text/html": [
       "<div>\n",
       "<style scoped>\n",
       "    .dataframe tbody tr th:only-of-type {\n",
       "        vertical-align: middle;\n",
       "    }\n",
       "\n",
       "    .dataframe tbody tr th {\n",
       "        vertical-align: top;\n",
       "    }\n",
       "\n",
       "    .dataframe thead th {\n",
       "        text-align: right;\n",
       "    }\n",
       "</style>\n",
       "<table border=\"1\" class=\"dataframe\">\n",
       "  <thead>\n",
       "    <tr style=\"text-align: right;\">\n",
       "      <th></th>\n",
       "      <th>Módulo</th>\n",
       "      <th>fase</th>\n",
       "    </tr>\n",
       "  </thead>\n",
       "  <tbody>\n",
       "    <tr>\n",
       "      <th>Ia</th>\n",
       "      <td>2.208696</td>\n",
       "      <td>0.0</td>\n",
       "    </tr>\n",
       "    <tr>\n",
       "      <th>Ib</th>\n",
       "      <td>1.656522</td>\n",
       "      <td>-120.0</td>\n",
       "    </tr>\n",
       "    <tr>\n",
       "      <th>Ic</th>\n",
       "      <td>2.208696</td>\n",
       "      <td>120.0</td>\n",
       "    </tr>\n",
       "    <tr>\n",
       "      <th>Iab</th>\n",
       "      <td>0.956393</td>\n",
       "      <td>30.0</td>\n",
       "    </tr>\n",
       "    <tr>\n",
       "      <th>Ibc</th>\n",
       "      <td>0.956393</td>\n",
       "      <td>-90.0</td>\n",
       "    </tr>\n",
       "    <tr>\n",
       "      <th>Ica</th>\n",
       "      <td>0.956393</td>\n",
       "      <td>150.0</td>\n",
       "    </tr>\n",
       "    <tr>\n",
       "      <th>Ian</th>\n",
       "      <td>0.552174</td>\n",
       "      <td>0.0</td>\n",
       "    </tr>\n",
       "    <tr>\n",
       "      <th>Icn</th>\n",
       "      <td>0.552174</td>\n",
       "      <td>120.0</td>\n",
       "    </tr>\n",
       "    <tr>\n",
       "      <th>In</th>\n",
       "      <td>0.552174</td>\n",
       "      <td>60.0</td>\n",
       "    </tr>\n",
       "  </tbody>\n",
       "</table>\n",
       "</div>"
      ],
      "text/plain": [
       "       Módulo   fase\n",
       "Ia   2.208696    0.0\n",
       "Ib   1.656522 -120.0\n",
       "Ic   2.208696  120.0\n",
       "Iab  0.956393   30.0\n",
       "Ibc  0.956393  -90.0\n",
       "Ica  0.956393  150.0\n",
       "Ian  0.552174    0.0\n",
       "Icn  0.552174  120.0\n",
       "In   0.552174   60.0"
      ]
     },
     "metadata": {},
     "output_type": "display_data"
    }
   ],
   "source": [
    "vals = [Ia, Ib ,Ic,\n",
    "        Iab, Ibc, Ica,\n",
    "        Ian, Icn,\n",
    "        In]\n",
    "datas = []\n",
    "for i in vals:\n",
    "    f = [abs(i),(cm.phase(i))*180/(m.pi)]\n",
    "    datas.append(f)\n",
    "df_vals = pd.DataFrame(data = datas, \n",
    "                       index = ['Ia', 'Ib' , 'Ic',\n",
    "                               'Iab', 'Ibc' , 'Ica',\n",
    "                               'Ian' , 'Icn',\n",
    "                               'In'], \n",
    "                       columns = ['Módulo','fase'])\n",
    "display(df_vals)"
   ]
  }
 ],
 "metadata": {
  "kernelspec": {
   "display_name": "Python 3 (ipykernel)",
   "language": "python",
   "name": "python3"
  },
  "language_info": {
   "codemirror_mode": {
    "name": "ipython",
    "version": 3
   },
   "file_extension": ".py",
   "mimetype": "text/x-python",
   "name": "python",
   "nbconvert_exporter": "python",
   "pygments_lexer": "ipython3",
   "version": "3.7.10"
  }
 },
 "nbformat": 4,
 "nbformat_minor": 5
}
