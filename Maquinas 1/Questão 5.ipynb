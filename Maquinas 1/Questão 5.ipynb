{
 "cells": [
  {
   "cell_type": "markdown",
   "id": "354f4e9a",
   "metadata": {},
   "source": [
    "# Máquinas Elétricas 1\n",
    "\n",
    "Aluno: \n",
    "    \n",
    "    Victor Hugo de Avelar Rezende "
   ]
  },
  {
   "cell_type": "markdown",
   "id": "9a84895b",
   "metadata": {},
   "source": [
    "## Bibliotecas"
   ]
  },
  {
   "cell_type": "code",
   "execution_count": 1,
   "id": "c1f27684",
   "metadata": {},
   "outputs": [],
   "source": [
    "import math as m\n",
    "import pandas as pd"
   ]
  },
  {
   "cell_type": "markdown",
   "id": "863c0cfb",
   "metadata": {},
   "source": [
    "## Valores da Maquina"
   ]
  },
  {
   "cell_type": "code",
   "execution_count": 2,
   "id": "4760d7f6",
   "metadata": {},
   "outputs": [],
   "source": [
    "S = 520000000\n",
    "Vl = 24000\n",
    "F = 60\n",
    "FP = 0.92\n",
    "Laao = 3.27258*0.001\n",
    "Laaii = 0.0458*0.001\n",
    "Labo = 1.6379*0.001\n",
    "Labii = 0.0458*0.001\n",
    "Lafd = 40*0.001\n",
    "Lffd = 576.92*0.001\n",
    "Ra = 0.0031\n",
    "Rfd =0.0715"
   ]
  },
  {
   "cell_type": "markdown",
   "id": "6d662c6e",
   "metadata": {},
   "source": [
    "## item a"
   ]
  },
  {
   "cell_type": "code",
   "execution_count": 3,
   "id": "45af377f",
   "metadata": {},
   "outputs": [],
   "source": [
    "Ld = Laao + Labo + 1.5*Laaii\n",
    "Lq = Laao + Labo - 1.5*Laaii"
   ]
  },
  {
   "cell_type": "code",
   "execution_count": 4,
   "id": "204d8889",
   "metadata": {},
   "outputs": [
    {
     "data": {
      "text/html": [
       "<div>\n",
       "<style scoped>\n",
       "    .dataframe tbody tr th:only-of-type {\n",
       "        vertical-align: middle;\n",
       "    }\n",
       "\n",
       "    .dataframe tbody tr th {\n",
       "        vertical-align: top;\n",
       "    }\n",
       "\n",
       "    .dataframe thead th {\n",
       "        text-align: right;\n",
       "    }\n",
       "</style>\n",
       "<table border=\"1\" class=\"dataframe\">\n",
       "  <thead>\n",
       "    <tr style=\"text-align: right;\">\n",
       "      <th></th>\n",
       "      <th>Grandeza</th>\n",
       "      <th>Valor</th>\n",
       "      <th>Unidade</th>\n",
       "    </tr>\n",
       "  </thead>\n",
       "  <tbody>\n",
       "    <tr>\n",
       "      <th>0</th>\n",
       "      <td>Ld</td>\n",
       "      <td>0.004979</td>\n",
       "      <td>H</td>\n",
       "    </tr>\n",
       "    <tr>\n",
       "      <th>1</th>\n",
       "      <td>Lq</td>\n",
       "      <td>0.004842</td>\n",
       "      <td>H</td>\n",
       "    </tr>\n",
       "  </tbody>\n",
       "</table>\n",
       "</div>"
      ],
      "text/plain": [
       "  Grandeza     Valor Unidade\n",
       "0       Ld  0.004979       H\n",
       "1       Lq  0.004842       H"
      ]
     },
     "metadata": {},
     "output_type": "display_data"
    }
   ],
   "source": [
    "vals = [[\"Ld\" ,Ld, \"H\"],\n",
    "        [\"Lq\" ,Lq, \"H\"]]\n",
    "\n",
    "df_vals = pd.DataFrame(data = vals,\n",
    "                       columns = ['Grandeza','Valor','Unidade']\n",
    "                      )\n",
    "display(df_vals)"
   ]
  },
  {
   "cell_type": "markdown",
   "id": "34e47bb6",
   "metadata": {},
   "source": [
    "## item b"
   ]
  },
  {
   "cell_type": "code",
   "execution_count": 5,
   "id": "ea2306e6",
   "metadata": {},
   "outputs": [],
   "source": [
    "Ll = 0.42*0.001\n",
    "Lad = Ld - Ll \n",
    "Laq = Lq - Ll\n"
   ]
  },
  {
   "cell_type": "code",
   "execution_count": 6,
   "id": "a4a4fc28",
   "metadata": {},
   "outputs": [
    {
     "data": {
      "text/html": [
       "<div>\n",
       "<style scoped>\n",
       "    .dataframe tbody tr th:only-of-type {\n",
       "        vertical-align: middle;\n",
       "    }\n",
       "\n",
       "    .dataframe tbody tr th {\n",
       "        vertical-align: top;\n",
       "    }\n",
       "\n",
       "    .dataframe thead th {\n",
       "        text-align: right;\n",
       "    }\n",
       "</style>\n",
       "<table border=\"1\" class=\"dataframe\">\n",
       "  <thead>\n",
       "    <tr style=\"text-align: right;\">\n",
       "      <th></th>\n",
       "      <th>Grandeza</th>\n",
       "      <th>Valor</th>\n",
       "      <th>Unidade</th>\n",
       "    </tr>\n",
       "  </thead>\n",
       "  <tbody>\n",
       "    <tr>\n",
       "      <th>0</th>\n",
       "      <td>Lad</td>\n",
       "      <td>0.004559</td>\n",
       "      <td>H</td>\n",
       "    </tr>\n",
       "    <tr>\n",
       "      <th>1</th>\n",
       "      <td>Laq</td>\n",
       "      <td>0.004422</td>\n",
       "      <td>H</td>\n",
       "    </tr>\n",
       "  </tbody>\n",
       "</table>\n",
       "</div>"
      ],
      "text/plain": [
       "  Grandeza     Valor Unidade\n",
       "0      Lad  0.004559       H\n",
       "1      Laq  0.004422       H"
      ]
     },
     "metadata": {},
     "output_type": "display_data"
    }
   ],
   "source": [
    "vals = [[\"Lad\" ,Lad, \"H\"],\n",
    "        [\"Laq\" ,Laq, \"H\"]]\n",
    "\n",
    "df_vals = pd.DataFrame(data = vals,\n",
    "                       columns = ['Grandeza','Valor','Unidade'])\n",
    "display(df_vals)"
   ]
  },
  {
   "cell_type": "markdown",
   "id": "b578bd20",
   "metadata": {},
   "source": [
    "## item c"
   ]
  },
  {
   "cell_type": "markdown",
   "id": "dd863ed7",
   "metadata": {},
   "source": [
    "### Valores de Base"
   ]
  },
  {
   "cell_type": "code",
   "execution_count": 7,
   "id": "73013f86",
   "metadata": {},
   "outputs": [],
   "source": [
    "Sbase = S\n",
    "Vsbase = Vl/(3**0.5)\n",
    "vsbase = m.sqrt(2)*Vsbase\n",
    "Isbase = Sbase/(3*Vsbase)\n",
    "isbase = m.sqrt(2)*Isbase\n",
    "Zsbase = vsbase/isbase\n",
    "Wbase = 2*m.pi*F\n",
    "Lsbase = Zsbase/Wbase\n",
    "ifdbase = (isbase*Lad)/Lafd\n",
    "vfdbase = Sbase/ifdbase\n",
    "Zfdbase = vfdbase/ifdbase\n",
    "Lfdbase = Zfdbase/Wbase"
   ]
  },
  {
   "cell_type": "code",
   "execution_count": 8,
   "id": "90d7ec8f",
   "metadata": {
    "scrolled": false
   },
   "outputs": [
    {
     "data": {
      "text/html": [
       "<div>\n",
       "<style scoped>\n",
       "    .dataframe tbody tr th:only-of-type {\n",
       "        vertical-align: middle;\n",
       "    }\n",
       "\n",
       "    .dataframe tbody tr th {\n",
       "        vertical-align: top;\n",
       "    }\n",
       "\n",
       "    .dataframe thead th {\n",
       "        text-align: right;\n",
       "    }\n",
       "</style>\n",
       "<table border=\"1\" class=\"dataframe\">\n",
       "  <thead>\n",
       "    <tr style=\"text-align: right;\">\n",
       "      <th></th>\n",
       "      <th>Grandeza</th>\n",
       "      <th>Valor</th>\n",
       "      <th>Unidade</th>\n",
       "    </tr>\n",
       "  </thead>\n",
       "  <tbody>\n",
       "    <tr>\n",
       "      <th>0</th>\n",
       "      <td>Sbase</td>\n",
       "      <td>5.200000e+08</td>\n",
       "      <td>VA</td>\n",
       "    </tr>\n",
       "    <tr>\n",
       "      <th>1</th>\n",
       "      <td>Vsbase</td>\n",
       "      <td>1.385641e+04</td>\n",
       "      <td>V</td>\n",
       "    </tr>\n",
       "    <tr>\n",
       "      <th>2</th>\n",
       "      <td>vsbase</td>\n",
       "      <td>1.959592e+04</td>\n",
       "      <td>V</td>\n",
       "    </tr>\n",
       "    <tr>\n",
       "      <th>3</th>\n",
       "      <td>Isbase</td>\n",
       "      <td>1.250926e+04</td>\n",
       "      <td>A</td>\n",
       "    </tr>\n",
       "    <tr>\n",
       "      <th>4</th>\n",
       "      <td>isbase</td>\n",
       "      <td>1.769076e+04</td>\n",
       "      <td>A</td>\n",
       "    </tr>\n",
       "    <tr>\n",
       "      <th>5</th>\n",
       "      <td>Zsbase</td>\n",
       "      <td>1.107692e+00</td>\n",
       "      <td>Ohms</td>\n",
       "    </tr>\n",
       "    <tr>\n",
       "      <th>6</th>\n",
       "      <td>Wbase</td>\n",
       "      <td>3.769911e+02</td>\n",
       "      <td>rad/s</td>\n",
       "    </tr>\n",
       "    <tr>\n",
       "      <th>7</th>\n",
       "      <td>Lsbase</td>\n",
       "      <td>2.938245e-03</td>\n",
       "      <td>H</td>\n",
       "    </tr>\n",
       "    <tr>\n",
       "      <th>8</th>\n",
       "      <td>ifdbase</td>\n",
       "      <td>2.016384e+03</td>\n",
       "      <td>A</td>\n",
       "    </tr>\n",
       "    <tr>\n",
       "      <th>9</th>\n",
       "      <td>vfdbase</td>\n",
       "      <td>2.578874e+05</td>\n",
       "      <td>V</td>\n",
       "    </tr>\n",
       "    <tr>\n",
       "      <th>10</th>\n",
       "      <td>Zfdbase</td>\n",
       "      <td>1.278960e+02</td>\n",
       "      <td>Ohms</td>\n",
       "    </tr>\n",
       "    <tr>\n",
       "      <th>11</th>\n",
       "      <td>Lfdbase</td>\n",
       "      <td>3.392546e-01</td>\n",
       "      <td>H</td>\n",
       "    </tr>\n",
       "  </tbody>\n",
       "</table>\n",
       "</div>"
      ],
      "text/plain": [
       "   Grandeza         Valor Unidade\n",
       "0     Sbase  5.200000e+08      VA\n",
       "1    Vsbase  1.385641e+04       V\n",
       "2    vsbase  1.959592e+04       V\n",
       "3    Isbase  1.250926e+04       A\n",
       "4    isbase  1.769076e+04       A\n",
       "5    Zsbase  1.107692e+00    Ohms\n",
       "6     Wbase  3.769911e+02   rad/s\n",
       "7    Lsbase  2.938245e-03       H\n",
       "8   ifdbase  2.016384e+03       A\n",
       "9   vfdbase  2.578874e+05       V\n",
       "10  Zfdbase  1.278960e+02    Ohms\n",
       "11  Lfdbase  3.392546e-01       H"
      ]
     },
     "metadata": {},
     "output_type": "display_data"
    }
   ],
   "source": [
    "vals = [[\"Sbase\" ,Sbase, \"VA\"],\n",
    "        [\"Vsbase\" ,Vsbase, \"V\"],\n",
    "        [\"vsbase\" ,vsbase, \"V\"],\n",
    "        [\"Isbase\" ,Isbase, \"A\"],\n",
    "        [\"isbase\" ,isbase, \"A\"],\n",
    "        [\"Zsbase\" ,Zsbase, \"Ohms\"],\n",
    "        [\"Wbase\" ,Wbase, \"rad/s\"],\n",
    "        [\"Lsbase\" ,Lsbase, \"H\"],\n",
    "        [\"ifdbase\" ,ifdbase, \"A\"],\n",
    "        [\"vfdbase\" ,vfdbase, \"V\"],\n",
    "        [\"Zfdbase\" ,Zfdbase, \"Ohms\"],\n",
    "        [\"Lfdbase\" ,Lfdbase, \"H\"]]\n",
    "\n",
    "df_vals = pd.DataFrame(data = vals,\n",
    "                       columns = ['Grandeza','Valor','Unidade'])\n",
    "display(df_vals)"
   ]
  },
  {
   "cell_type": "markdown",
   "id": "0cd6c289",
   "metadata": {},
   "source": [
    "### Valores em p.u."
   ]
  },
  {
   "cell_type": "code",
   "execution_count": 9,
   "id": "8897e5de",
   "metadata": {},
   "outputs": [],
   "source": [
    "Ll = Ll/Lsbase\n",
    "Lad = Lad/Lsbase\n",
    "Laq = Laq/Lsbase\n",
    "Ld = Lad + Ll\n",
    "Lq = Laq + Ll\n",
    "Lafd = (Lafd*ifdbase)/(Lsbase*isbase)\n",
    "Lffd = Lffd/Lfdbase\n",
    "Lfd = Lffd-Lad\n",
    "Ra = Ra/Zsbase\n",
    "Rfd = Rfd/Zfdbase"
   ]
  },
  {
   "cell_type": "code",
   "execution_count": 10,
   "id": "ac2b4c08",
   "metadata": {},
   "outputs": [
    {
     "data": {
      "text/html": [
       "<div>\n",
       "<style scoped>\n",
       "    .dataframe tbody tr th:only-of-type {\n",
       "        vertical-align: middle;\n",
       "    }\n",
       "\n",
       "    .dataframe tbody tr th {\n",
       "        vertical-align: top;\n",
       "    }\n",
       "\n",
       "    .dataframe thead th {\n",
       "        text-align: right;\n",
       "    }\n",
       "</style>\n",
       "<table border=\"1\" class=\"dataframe\">\n",
       "  <thead>\n",
       "    <tr style=\"text-align: right;\">\n",
       "      <th></th>\n",
       "      <th>Grandeza</th>\n",
       "      <th>Valor</th>\n",
       "      <th>Unidade</th>\n",
       "    </tr>\n",
       "  </thead>\n",
       "  <tbody>\n",
       "    <tr>\n",
       "      <th>0</th>\n",
       "      <td>Ll</td>\n",
       "      <td>0.142942</td>\n",
       "      <td>p.u.</td>\n",
       "    </tr>\n",
       "    <tr>\n",
       "      <th>1</th>\n",
       "      <td>Lad</td>\n",
       "      <td>1.551668</td>\n",
       "      <td>p.u.</td>\n",
       "    </tr>\n",
       "    <tr>\n",
       "      <th>2</th>\n",
       "      <td>Laq</td>\n",
       "      <td>1.504905</td>\n",
       "      <td>p.u.</td>\n",
       "    </tr>\n",
       "    <tr>\n",
       "      <th>3</th>\n",
       "      <td>Ld</td>\n",
       "      <td>1.694610</td>\n",
       "      <td>p.u.</td>\n",
       "    </tr>\n",
       "    <tr>\n",
       "      <th>4</th>\n",
       "      <td>Lq</td>\n",
       "      <td>1.647848</td>\n",
       "      <td>p.u.</td>\n",
       "    </tr>\n",
       "    <tr>\n",
       "      <th>5</th>\n",
       "      <td>Lafd</td>\n",
       "      <td>1.551668</td>\n",
       "      <td>p.u.</td>\n",
       "    </tr>\n",
       "    <tr>\n",
       "      <th>6</th>\n",
       "      <td>Lffd</td>\n",
       "      <td>1.700552</td>\n",
       "      <td>p.u.</td>\n",
       "    </tr>\n",
       "    <tr>\n",
       "      <th>7</th>\n",
       "      <td>Lfd</td>\n",
       "      <td>0.148884</td>\n",
       "      <td>p.u.</td>\n",
       "    </tr>\n",
       "    <tr>\n",
       "      <th>8</th>\n",
       "      <td>Ra</td>\n",
       "      <td>0.002799</td>\n",
       "      <td>p.u.</td>\n",
       "    </tr>\n",
       "    <tr>\n",
       "      <th>9</th>\n",
       "      <td>Rfd</td>\n",
       "      <td>0.000559</td>\n",
       "      <td>p.u.</td>\n",
       "    </tr>\n",
       "  </tbody>\n",
       "</table>\n",
       "</div>"
      ],
      "text/plain": [
       "  Grandeza     Valor Unidade\n",
       "0       Ll  0.142942    p.u.\n",
       "1      Lad  1.551668    p.u.\n",
       "2      Laq  1.504905    p.u.\n",
       "3       Ld  1.694610    p.u.\n",
       "4       Lq  1.647848    p.u.\n",
       "5     Lafd  1.551668    p.u.\n",
       "6     Lffd  1.700552    p.u.\n",
       "7      Lfd  0.148884    p.u.\n",
       "8       Ra  0.002799    p.u.\n",
       "9      Rfd  0.000559    p.u."
      ]
     },
     "metadata": {},
     "output_type": "display_data"
    }
   ],
   "source": [
    "vals = [[\"Ll\" ,Ll, \"p.u.\"],\n",
    "        [\"Lad\" ,Lad, \"p.u.\"],\n",
    "        [\"Laq\" ,Laq, \"p.u.\"],\n",
    "        [\"Ld\" ,Ld, \"p.u.\"],\n",
    "        [\"Lq\" ,Lq, \"p.u.\"],\n",
    "        [\"Lafd\" ,Lafd, \"p.u.\"],\n",
    "        [\"Lffd\" ,Lffd, \"p.u.\"],\n",
    "        [\"Lfd\" ,Lfd, \"p.u.\"],\n",
    "        [\"Ra\" ,Ra, \"p.u.\"],\n",
    "        [\"Rfd\" ,Rfd, \"p.u.\"]]\n",
    "\n",
    "df_vals = pd.DataFrame(data = vals,\n",
    "                       columns = ['Grandeza','Valor','Unidade'])\n",
    "display(df_vals)"
   ]
  }
 ],
 "metadata": {
  "kernelspec": {
   "display_name": "Python 3 (ipykernel)",
   "language": "python",
   "name": "python3"
  },
  "language_info": {
   "codemirror_mode": {
    "name": "ipython",
    "version": 3
   },
   "file_extension": ".py",
   "mimetype": "text/x-python",
   "name": "python",
   "nbconvert_exporter": "python",
   "pygments_lexer": "ipython3",
   "version": "3.7.10"
  }
 },
 "nbformat": 4,
 "nbformat_minor": 5
}
